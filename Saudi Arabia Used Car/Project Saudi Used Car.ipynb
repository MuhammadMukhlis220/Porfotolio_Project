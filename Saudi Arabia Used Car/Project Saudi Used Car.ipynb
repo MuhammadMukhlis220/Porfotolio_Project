{
 "cells": [
  {
   "cell_type": "markdown",
   "metadata": {},
   "source": [
    "# Saudi Arabia Used Car Regression"
   ]
  },
  {
   "cell_type": "markdown",
   "metadata": {},
   "source": [
    "[Sumber datasets](https://www.kaggle.com/datasets/turkibintalib/saudi-arabia-used-cars-dataset?select=UsedCarsSA_Clean_EN.csv) <br>\n",
    "Domain Knowledge and literacy are obtained based on the following sources:\n",
    "- [expertarrivals.com](https://www.expatarrivals.com/middle-east/saudi-arabia/riyadh/getting-around-riyadh) \n",
    "- [kenresearch.com](https://www.kenresearch.com/blog/2020/09/future-of-saudi-arabia-used-car-market-growth-rate-ken-research/) \n",
    "- [kenresearch.com](https://www.kenresearch.com/automotive-transportation-and-warehousing/automotive-and-automotive-components/saudi-arabia-used-car-market-outlook-to-2025/356552-100.html) \n",
    "- [kaggledatasets Saudi Arabia Used Cars](https://www.kaggle.com/datasets/turkibintalib/saudi-arabia-used-cars-dataset?select=UsedCarsSA_Clean_EN.csv)\n",
    "- [Platform company datasets](https://syarah.com/)\n",
    "- [GPA Saudi Arabia](https://id.tradingeconomics.com/saudi-arabia/gdp-per-capita)\n",
    "- [Extreme Gradient Boost](https://www.geeksforgeeks.org/xgboost/)\n",
    "- [Extreme Gradient Boost 2](https://xgboost.readthedocs.io/en/stable/index.html)\n",
    "****\n",
    "### **Contents**\n",
    "\n",
    "1. Business Problem Understanding\n",
    "2. Data Understanding\n",
    "3. Data Preprocessing\n",
    "4. Modeling\n",
    "5. Conclusion\n",
    "6. Recommendation\n",
    "\n",
    "****"
   ]
  },
  {
   "cell_type": "markdown",
   "metadata": {},
   "source": [
    "### **1. Business Problem Understanding**"
   ]
  },
  {
   "cell_type": "markdown",
   "metadata": {},
   "source": [
    "***Context***\n",
    "\n",
    "Transportation is a vital tool in supporting human life. One of the most popular types of transportation in Saudi Arabia is the car. Cars are a primary level of transportation need compared to motorbikes in Saudi Arabia. The high temperatures in Arabia, make motorcycles very unattractive and make automobiles more sought after. In addition to this, with the elimination of the rules for women who are prohibited from working and driving in 2019, cars are increasingly in demand. The article which covers the Market Opportunity of used cars in Saudi Arabia said that the ratio of buying a used car to a new car is 2: 1. This can still increase over time due to the good economic growth in Saudi Arabia.\n",
    "<br>\n",
    "<br>\n",
    "Due to a large number of used cars in demand, there are a number of platforms on websites like syarah.com that are interested in being a medium for buying and selling used cars. syarah.com, which was founded in 2015, is one of the largest used car buying and selling platforms in Saudi Arabia. At syarah.com, customers can choose the car according to their wishes by matching the desired specifications and prices. On the web, there are also many features that are shown so that the specifications of the car are more complete. The higher the specifications of the car owned, the higher the price of the car installed. If we talk in more detail about the price, determining the price of a used car will be more complicated considering the difficulty of determining the market price by looking at so many specifications. Not to mention the emergence of new features on the latest cars that make used car prices go down. Determining the price of a used car is not necessarily easy to calculate. Therefore, we need a tool called machine learning to make used car prices more accurate.\n",
    "<br>\n",
    "<br>\n",
    "Machine learning can study various previous transaction data and will produce a model that can be used by companies such as syarah.com. With machine learning, it is hoped that prices will be more competitive in the market for buying and selling used cars. Another reason why these tools are needed is that not all potential sellers understand the specifications of their cars. If they (the seller) sell at a high price, then the car will be difficult to sell. And vice versa if the selling price is too low, the profits will be smaller. Not to mention that syarah.com also took part in the proceeds of the car sales transactions that occurred. In the end, machine learning is expected to make all elements in the world of buying and selling used cars, be it companies (syarah.com), prospective buyers, and potential sellers, will both benefit from providing accurate and competitive used car prices.\n",
    "\n"
   ]
  },
  {
   "cell_type": "markdown",
   "metadata": {},
   "source": [
    "![gambar arab](https://media.architecturaldigest.in/wp-content/uploads/2019/05/saudi-saudi-arabia-residency-permanent-residence-expats.jpg)\n",
    "\n"
   ]
  },
  {
   "cell_type": "markdown",
   "metadata": {},
   "source": [
    "**Problem Statement**\n",
    "\n",
    "The problem will have a direct impact on the company and potential sellers because, for potential buyers, low prices below market standards will be in great demand. For companies, solving problems to get a good business model will have a positive impact by making the financial and user experience of prospective sellers and buyers better so that they are more in demand.\n",
    "<br>\n",
    "<br>\n",
    "As for potential sellers, the business model generated by the company will reduce the time spent researching used car prices. Don't forget that the selling price will be sold competitively so that the profit taken is maximized.\n",
    "<br>\n",
    "<br>\n",
    "For potential buyers, the time they spend comparing prices will also be reduced. This is because if the company's business model can be generated, then all prices on the platform are competitive prices so they don't have to worry about the prices they see being too expensive or too cheap.\n",
    "<br>\n",
    "<br>\n",
    "With so many specifications and conditions on used cars, **the company is expected to be able to provide a good business model in determining accurate prices** so that many potential buyers or customers are increasingly interested in this company. Prospective buyers will also be given the convenience of determining the desired specifications and prices without worrying about whether the choice is wrong or the right one. This accurate price and convenience can attract many customers to shop at this company and of course will increase the company's financial income."
   ]
  },
  {
   "cell_type": "markdown",
   "metadata": {},
   "source": [
    "**Goals**\n",
    "\n",
    "Based on these problems, the syarah.com company needs to have the tools so that prospective buyers can determine their dream car by looking at various specifications and accurate prices according to their wishes and needs. Car specification variables such as car brand, year of car, mileage, and others are expected to increase good accuracy in determining car prices. This is what makes the price of the car able to compete in the market so that the company can take as much profit as possible."
   ]
  },
  {
   "cell_type": "markdown",
   "metadata": {},
   "source": [
    "**Analytic Approach**\n",
    "\n",
    "The first thing to do is to analyze all the data in order to find the pattern of the features provided that distinguishes one car from another. The next step will be to create a regression model that will help the company to be able to provide a used car price prediction tool. Determination of the regression model will be determined by looking at the best evaluation matrix so that the final model of machine learning can be determined."
   ]
  },
  {
   "cell_type": "markdown",
   "metadata": {},
   "source": [
    "**Metric Evaluation**"
   ]
  },
  {
   "cell_type": "markdown",
   "metadata": {},
   "source": [
    "In the model that will be created when cleaning the outliers data, only the outliers data with extreme values will be deleted. Therefore, the data will still have a number of outliers left out. This makes the metric evaluation model that will be used not sensitive to outliers. Metrics such as MSE, RMSE, and RMSPE are not suitable for use in this data because they are very sensitive to data outliers. Metric evaluation that will be used are:\n",
    "\n",
    "1. R-Square:\n",
    "<br>\n",
    "<br>\n",
    "This metric represents what percentage of all features affect the target. The higher the percentage value, the bigger the *feature* affects the target. This metric will only be used when selecting the base model because from each model it can be seen clearly how big the percentage of the *feature* effect of each model affects the target. Because it is a percentage, the value of metric is 0 to 1.\n",
    "\n",
    "2. MAE (Mean Absolute Error)\n",
    "<br>\n",
    "<br>\n",
    "This metric represents the average absolute difference between the predicted result and the actual result. This metric is recommended because the data used is data that has several outliers. Due to the absolute value, this metric does not care about the difference that results in a negative result. The smaller the value of this metric, the better the prediction results obtained\n",
    "\n",
    "3. MAPE (Mean Absolute Percentage Error)\n",
    "<br>\n",
    "<br>\n",
    "This metric represents the average percentage of the absolute difference between the predicted result and the actual result. The difference with MAE, this metric needs to change the result of the difference to a percentage only. Because it is a percentage, the value of the metric is 0 to 1.\n",
    "\n",
    "4. RMSLE (Root Mean Squared Log Error)\n",
    "<br>\n",
    "<br>\n",
    "This metric is used when the data is too right skewedwith a variance ranging from small to very large. Large variance differences can be overcome because the calculation of RMSLE is to first convert to a logarithmic scale and then averaged and rooted. These datasets meet the above requirements so that this metric is suitable for use in evaluating the results of the model.\n"
   ]
  },
  {
   "cell_type": "markdown",
   "metadata": {},
   "source": [
    "### **2. Data Understanding**"
   ]
  },
  {
   "cell_type": "markdown",
   "metadata": {},
   "source": [
    "- The description of each column is obtained based on the *domain knowledge* studied.\n",
    "- The dataset is car price list data from syarah.com in Saudi Arabia.\n",
    "- Each data line represents information related to car specification information to car prices.\n",
    "\n",
    "**Attributes Information**\n",
    "\n",
    "| **Attribute** | **Data Type** | **Description** |\n",
    "| --- | --- | --- |\n",
    "| Type | Object | Car brand |\n",
    "| Region | Object | Used car sales area |\n",
    "| Make | Object | Name of car manufacturer |\n",
    "| Gear_Type | Object | Type of gear used (Automatic / Manual) |\n",
    "| Origin | Object | Car importing country (Gulf / Saudi / Other / Unknown) |\n",
    "| Options | Object | Option used (Full Options / Semi-Full / Standard) |\n",
    "| Year | Integer | Year of car manufacture |\n",
    "| Engine_Size | Float | Car engine size |\n",
    "| Mileage | Integer |Distance traveled by vehicle (KM) |\n",
    "| Negotiable | Boolean | If True, then the price is 0 because the price is determined through negotiation |\n",
    "| Price | Integer | Used car prices (SAR) |\n",
    "\n",
    "<br>\n",
    "\n",
    "`Price` will be the label or target column to be predicted (dependent variable), and the other column will be predictor variable / independent variable which will predict `Price`."
   ]
  },
  {
   "cell_type": "code",
   "execution_count": 1,
   "metadata": {},
   "outputs": [],
   "source": [
    "import pandas as pd \n",
    "import numpy as np\n",
    "import matplotlib.pyplot as plt\n",
    "import seaborn as sns\n",
    "import warnings\n",
    "warnings.filterwarnings('ignore')"
   ]
  },
  {
   "cell_type": "code",
   "execution_count": 2,
   "metadata": {},
   "outputs": [
    {
     "data": {
      "text/html": [
       "<div>\n",
       "<style scoped>\n",
       "    .dataframe tbody tr th:only-of-type {\n",
       "        vertical-align: middle;\n",
       "    }\n",
       "\n",
       "    .dataframe tbody tr th {\n",
       "        vertical-align: top;\n",
       "    }\n",
       "\n",
       "    .dataframe thead th {\n",
       "        text-align: right;\n",
       "    }\n",
       "</style>\n",
       "<table border=\"1\" class=\"dataframe\">\n",
       "  <thead>\n",
       "    <tr style=\"text-align: right;\">\n",
       "      <th></th>\n",
       "      <th>Type</th>\n",
       "      <th>Region</th>\n",
       "      <th>Make</th>\n",
       "      <th>Gear_Type</th>\n",
       "      <th>Origin</th>\n",
       "      <th>Options</th>\n",
       "      <th>Year</th>\n",
       "      <th>Engine_Size</th>\n",
       "      <th>Mileage</th>\n",
       "      <th>Negotiable</th>\n",
       "      <th>Price</th>\n",
       "    </tr>\n",
       "  </thead>\n",
       "  <tbody>\n",
       "    <tr>\n",
       "      <th>0</th>\n",
       "      <td>Corolla</td>\n",
       "      <td>Abha</td>\n",
       "      <td>Toyota</td>\n",
       "      <td>Manual</td>\n",
       "      <td>Saudi</td>\n",
       "      <td>Standard</td>\n",
       "      <td>2013</td>\n",
       "      <td>1.4</td>\n",
       "      <td>421000</td>\n",
       "      <td>True</td>\n",
       "      <td>0</td>\n",
       "    </tr>\n",
       "    <tr>\n",
       "      <th>1</th>\n",
       "      <td>Yukon</td>\n",
       "      <td>Riyadh</td>\n",
       "      <td>GMC</td>\n",
       "      <td>Automatic</td>\n",
       "      <td>Saudi</td>\n",
       "      <td>Full</td>\n",
       "      <td>2014</td>\n",
       "      <td>8.0</td>\n",
       "      <td>80000</td>\n",
       "      <td>False</td>\n",
       "      <td>120000</td>\n",
       "    </tr>\n",
       "    <tr>\n",
       "      <th>2</th>\n",
       "      <td>Range Rover</td>\n",
       "      <td>Riyadh</td>\n",
       "      <td>Land Rover</td>\n",
       "      <td>Automatic</td>\n",
       "      <td>Gulf Arabic</td>\n",
       "      <td>Full</td>\n",
       "      <td>2015</td>\n",
       "      <td>5.0</td>\n",
       "      <td>140000</td>\n",
       "      <td>False</td>\n",
       "      <td>260000</td>\n",
       "    </tr>\n",
       "    <tr>\n",
       "      <th>3</th>\n",
       "      <td>Optima</td>\n",
       "      <td>Hafar Al-Batin</td>\n",
       "      <td>Kia</td>\n",
       "      <td>Automatic</td>\n",
       "      <td>Saudi</td>\n",
       "      <td>Semi Full</td>\n",
       "      <td>2015</td>\n",
       "      <td>2.4</td>\n",
       "      <td>220000</td>\n",
       "      <td>False</td>\n",
       "      <td>42000</td>\n",
       "    </tr>\n",
       "    <tr>\n",
       "      <th>4</th>\n",
       "      <td>FJ</td>\n",
       "      <td>Riyadh</td>\n",
       "      <td>Toyota</td>\n",
       "      <td>Automatic</td>\n",
       "      <td>Saudi</td>\n",
       "      <td>Full</td>\n",
       "      <td>2020</td>\n",
       "      <td>4.0</td>\n",
       "      <td>49000</td>\n",
       "      <td>True</td>\n",
       "      <td>0</td>\n",
       "    </tr>\n",
       "    <tr>\n",
       "      <th>...</th>\n",
       "      <td>...</td>\n",
       "      <td>...</td>\n",
       "      <td>...</td>\n",
       "      <td>...</td>\n",
       "      <td>...</td>\n",
       "      <td>...</td>\n",
       "      <td>...</td>\n",
       "      <td>...</td>\n",
       "      <td>...</td>\n",
       "      <td>...</td>\n",
       "      <td>...</td>\n",
       "    </tr>\n",
       "    <tr>\n",
       "      <th>5619</th>\n",
       "      <td>X-Trail</td>\n",
       "      <td>Jeddah</td>\n",
       "      <td>Nissan</td>\n",
       "      <td>Automatic</td>\n",
       "      <td>Saudi</td>\n",
       "      <td>Standard</td>\n",
       "      <td>2018</td>\n",
       "      <td>2.5</td>\n",
       "      <td>78794</td>\n",
       "      <td>False</td>\n",
       "      <td>68000</td>\n",
       "    </tr>\n",
       "    <tr>\n",
       "      <th>5620</th>\n",
       "      <td>Altima</td>\n",
       "      <td>Jeddah</td>\n",
       "      <td>Nissan</td>\n",
       "      <td>Automatic</td>\n",
       "      <td>Saudi</td>\n",
       "      <td>Semi Full</td>\n",
       "      <td>2020</td>\n",
       "      <td>2.5</td>\n",
       "      <td>58000</td>\n",
       "      <td>True</td>\n",
       "      <td>0</td>\n",
       "    </tr>\n",
       "    <tr>\n",
       "      <th>5621</th>\n",
       "      <td>Yukon</td>\n",
       "      <td>Dammam</td>\n",
       "      <td>GMC</td>\n",
       "      <td>Automatic</td>\n",
       "      <td>Saudi</td>\n",
       "      <td>Full</td>\n",
       "      <td>2016</td>\n",
       "      <td>5.3</td>\n",
       "      <td>48000</td>\n",
       "      <td>False</td>\n",
       "      <td>145000</td>\n",
       "    </tr>\n",
       "    <tr>\n",
       "      <th>5622</th>\n",
       "      <td>RX</td>\n",
       "      <td>Dammam</td>\n",
       "      <td>Lexus</td>\n",
       "      <td>Automatic</td>\n",
       "      <td>Gulf Arabic</td>\n",
       "      <td>Full</td>\n",
       "      <td>2016</td>\n",
       "      <td>2.5</td>\n",
       "      <td>81000</td>\n",
       "      <td>False</td>\n",
       "      <td>154000</td>\n",
       "    </tr>\n",
       "    <tr>\n",
       "      <th>5623</th>\n",
       "      <td>ES</td>\n",
       "      <td>Jeddah</td>\n",
       "      <td>Lexus</td>\n",
       "      <td>Automatic</td>\n",
       "      <td>Other</td>\n",
       "      <td>Full</td>\n",
       "      <td>2017</td>\n",
       "      <td>3.5</td>\n",
       "      <td>115000</td>\n",
       "      <td>True</td>\n",
       "      <td>0</td>\n",
       "    </tr>\n",
       "  </tbody>\n",
       "</table>\n",
       "<p>5624 rows × 11 columns</p>\n",
       "</div>"
      ],
      "text/plain": [
       "             Type          Region        Make  Gear_Type       Origin  \\\n",
       "0         Corolla            Abha      Toyota     Manual        Saudi   \n",
       "1           Yukon          Riyadh         GMC  Automatic        Saudi   \n",
       "2     Range Rover          Riyadh  Land Rover  Automatic  Gulf Arabic   \n",
       "3          Optima  Hafar Al-Batin         Kia  Automatic        Saudi   \n",
       "4              FJ          Riyadh      Toyota  Automatic        Saudi   \n",
       "...           ...             ...         ...        ...          ...   \n",
       "5619      X-Trail          Jeddah      Nissan  Automatic        Saudi   \n",
       "5620       Altima          Jeddah      Nissan  Automatic        Saudi   \n",
       "5621        Yukon          Dammam         GMC  Automatic        Saudi   \n",
       "5622           RX          Dammam       Lexus  Automatic  Gulf Arabic   \n",
       "5623           ES          Jeddah       Lexus  Automatic        Other   \n",
       "\n",
       "        Options  Year  Engine_Size  Mileage  Negotiable   Price  \n",
       "0      Standard  2013          1.4   421000        True       0  \n",
       "1          Full  2014          8.0    80000       False  120000  \n",
       "2          Full  2015          5.0   140000       False  260000  \n",
       "3     Semi Full  2015          2.4   220000       False   42000  \n",
       "4          Full  2020          4.0    49000        True       0  \n",
       "...         ...   ...          ...      ...         ...     ...  \n",
       "5619   Standard  2018          2.5    78794       False   68000  \n",
       "5620  Semi Full  2020          2.5    58000        True       0  \n",
       "5621       Full  2016          5.3    48000       False  145000  \n",
       "5622       Full  2016          2.5    81000       False  154000  \n",
       "5623       Full  2017          3.5   115000        True       0  \n",
       "\n",
       "[5624 rows x 11 columns]"
      ]
     },
     "execution_count": 2,
     "metadata": {},
     "output_type": "execute_result"
    }
   ],
   "source": [
    "df = pd.read_csv('data_saudi_used_cars.csv')\n",
    "df"
   ]
  },
  {
   "cell_type": "code",
   "execution_count": 3,
   "metadata": {},
   "outputs": [
    {
     "name": "stdout",
     "output_type": "stream",
     "text": [
      "<class 'pandas.core.frame.DataFrame'>\n",
      "RangeIndex: 5624 entries, 0 to 5623\n",
      "Data columns (total 11 columns):\n",
      " #   Column       Non-Null Count  Dtype  \n",
      "---  ------       --------------  -----  \n",
      " 0   Type         5624 non-null   object \n",
      " 1   Region       5624 non-null   object \n",
      " 2   Make         5624 non-null   object \n",
      " 3   Gear_Type    5624 non-null   object \n",
      " 4   Origin       5624 non-null   object \n",
      " 5   Options      5624 non-null   object \n",
      " 6   Year         5624 non-null   int64  \n",
      " 7   Engine_Size  5624 non-null   float64\n",
      " 8   Mileage      5624 non-null   int64  \n",
      " 9   Negotiable   5624 non-null   bool   \n",
      " 10  Price        5624 non-null   int64  \n",
      "dtypes: bool(1), float64(1), int64(3), object(6)\n",
      "memory usage: 445.0+ KB\n"
     ]
    }
   ],
   "source": [
    "df.info()"
   ]
  },
  {
   "cell_type": "markdown",
   "metadata": {},
   "source": [
    "From the information above, we know that there are 5624 indexes and 11 columns in the datasets with the following composition:\n",
    "\n",
    "1. 6 object data type\n",
    "2. 3 integer data\n",
    "3. 1 float data\n",
    "4. 1 boolean data"
   ]
  },
  {
   "cell_type": "markdown",
   "metadata": {},
   "source": [
    "### **3. Data Preprocessing**"
   ]
  },
  {
   "cell_type": "markdown",
   "metadata": {},
   "source": [
    "In analyzing the data, the quality of the data will determine the final result. No matter how good the analysis results are, if the quality of the data is low, the results will be biased or unsatisfactory. Determination of whether the quality of the data is good or not is determined in this process. This process will check for various errors in the data such as missing value, duplicate data, etc. from raw data into data that is ready to be used for further analysis."
   ]
  },
  {
   "cell_type": "markdown",
   "metadata": {},
   "source": [
    "#### **3.1. Check Missing Value**"
   ]
  },
  {
   "cell_type": "code",
   "execution_count": 4,
   "metadata": {},
   "outputs": [
    {
     "data": {
      "text/html": [
       "<div>\n",
       "<style scoped>\n",
       "    .dataframe tbody tr th:only-of-type {\n",
       "        vertical-align: middle;\n",
       "    }\n",
       "\n",
       "    .dataframe tbody tr th {\n",
       "        vertical-align: top;\n",
       "    }\n",
       "\n",
       "    .dataframe thead th {\n",
       "        text-align: right;\n",
       "    }\n",
       "</style>\n",
       "<table border=\"1\" class=\"dataframe\">\n",
       "  <thead>\n",
       "    <tr style=\"text-align: right;\">\n",
       "      <th></th>\n",
       "      <th>Data Features</th>\n",
       "      <th>Data Types</th>\n",
       "      <th>Null</th>\n",
       "      <th>Null Percentage</th>\n",
       "      <th>Unique</th>\n",
       "      <th>Unique Sample</th>\n",
       "    </tr>\n",
       "  </thead>\n",
       "  <tbody>\n",
       "    <tr>\n",
       "      <th>0</th>\n",
       "      <td>Type</td>\n",
       "      <td>object</td>\n",
       "      <td>0</td>\n",
       "      <td>0.0</td>\n",
       "      <td>347</td>\n",
       "      <td>[Soul]</td>\n",
       "    </tr>\n",
       "    <tr>\n",
       "      <th>1</th>\n",
       "      <td>Region</td>\n",
       "      <td>object</td>\n",
       "      <td>0</td>\n",
       "      <td>0.0</td>\n",
       "      <td>27</td>\n",
       "      <td>[Najran]</td>\n",
       "    </tr>\n",
       "    <tr>\n",
       "      <th>2</th>\n",
       "      <td>Make</td>\n",
       "      <td>object</td>\n",
       "      <td>0</td>\n",
       "      <td>0.0</td>\n",
       "      <td>58</td>\n",
       "      <td>[Peugeot]</td>\n",
       "    </tr>\n",
       "    <tr>\n",
       "      <th>3</th>\n",
       "      <td>Gear_Type</td>\n",
       "      <td>object</td>\n",
       "      <td>0</td>\n",
       "      <td>0.0</td>\n",
       "      <td>2</td>\n",
       "      <td>[Manual]</td>\n",
       "    </tr>\n",
       "    <tr>\n",
       "      <th>4</th>\n",
       "      <td>Origin</td>\n",
       "      <td>object</td>\n",
       "      <td>0</td>\n",
       "      <td>0.0</td>\n",
       "      <td>4</td>\n",
       "      <td>[Saudi]</td>\n",
       "    </tr>\n",
       "    <tr>\n",
       "      <th>5</th>\n",
       "      <td>Options</td>\n",
       "      <td>object</td>\n",
       "      <td>0</td>\n",
       "      <td>0.0</td>\n",
       "      <td>3</td>\n",
       "      <td>[Semi Full]</td>\n",
       "    </tr>\n",
       "    <tr>\n",
       "      <th>6</th>\n",
       "      <td>Year</td>\n",
       "      <td>int64</td>\n",
       "      <td>0</td>\n",
       "      <td>0.0</td>\n",
       "      <td>50</td>\n",
       "      <td>[1977]</td>\n",
       "    </tr>\n",
       "    <tr>\n",
       "      <th>7</th>\n",
       "      <td>Engine_Size</td>\n",
       "      <td>float64</td>\n",
       "      <td>0</td>\n",
       "      <td>0.0</td>\n",
       "      <td>71</td>\n",
       "      <td>[5.3]</td>\n",
       "    </tr>\n",
       "    <tr>\n",
       "      <th>8</th>\n",
       "      <td>Mileage</td>\n",
       "      <td>int64</td>\n",
       "      <td>0</td>\n",
       "      <td>0.0</td>\n",
       "      <td>1716</td>\n",
       "      <td>[148254]</td>\n",
       "    </tr>\n",
       "    <tr>\n",
       "      <th>9</th>\n",
       "      <td>Negotiable</td>\n",
       "      <td>bool</td>\n",
       "      <td>0</td>\n",
       "      <td>0.0</td>\n",
       "      <td>2</td>\n",
       "      <td>[True]</td>\n",
       "    </tr>\n",
       "    <tr>\n",
       "      <th>10</th>\n",
       "      <td>Price</td>\n",
       "      <td>int64</td>\n",
       "      <td>0</td>\n",
       "      <td>0.0</td>\n",
       "      <td>467</td>\n",
       "      <td>[125000]</td>\n",
       "    </tr>\n",
       "  </tbody>\n",
       "</table>\n",
       "</div>"
      ],
      "text/plain": [
       "   Data Features Data Types  Null  Null Percentage  Unique Unique Sample\n",
       "0           Type     object     0              0.0     347        [Soul]\n",
       "1         Region     object     0              0.0      27      [Najran]\n",
       "2           Make     object     0              0.0      58     [Peugeot]\n",
       "3      Gear_Type     object     0              0.0       2      [Manual]\n",
       "4         Origin     object     0              0.0       4       [Saudi]\n",
       "5        Options     object     0              0.0       3   [Semi Full]\n",
       "6           Year      int64     0              0.0      50        [1977]\n",
       "7    Engine_Size    float64     0              0.0      71         [5.3]\n",
       "8        Mileage      int64     0              0.0    1716      [148254]\n",
       "9     Negotiable       bool     0              0.0       2        [True]\n",
       "10         Price      int64     0              0.0     467      [125000]"
      ]
     },
     "execution_count": 4,
     "metadata": {},
     "output_type": "execute_result"
    }
   ],
   "source": [
    "listdesc = []\n",
    "for col in df.columns:\n",
    "    listdesc.append([col,\n",
    "                     df[col].dtypes,\n",
    "                     df[col].isna().sum(),\n",
    "                     round((df[col].isna().sum()/len(df)*100),2),\n",
    "                     df[col].nunique(),\n",
    "                     df[col].drop_duplicates().sample(1).values])\n",
    "\n",
    "pd.DataFrame(listdesc, columns=['Data Features',\n",
    "                               'Data Types',\n",
    "                               'Null',\n",
    "                               'Null Percentage',\n",
    "                               'Unique',\n",
    "                               'Unique Sample'])"
   ]
  },
  {
   "cell_type": "markdown",
   "metadata": {},
   "source": [
    "From the information above, it can be seen that the data is clean with the \"Null\" column with a value of 0 for each index."
   ]
  },
  {
   "cell_type": "markdown",
   "metadata": {},
   "source": [
    "#### **3.2. Check Duplicate Data**"
   ]
  },
  {
   "cell_type": "code",
   "execution_count": 5,
   "metadata": {},
   "outputs": [
    {
     "name": "stdout",
     "output_type": "stream",
     "text": [
      "Amount of duplicate data:  4\n"
     ]
    }
   ],
   "source": [
    "print(\"Amount of duplicate data: \", sum(df.duplicated()))"
   ]
  },
  {
   "cell_type": "markdown",
   "metadata": {},
   "source": [
    "There are 4 indexes whose data is duplicated. Therefore we will delete the duplicate data."
   ]
  },
  {
   "cell_type": "code",
   "execution_count": 6,
   "metadata": {},
   "outputs": [
    {
     "name": "stdout",
     "output_type": "stream",
     "text": [
      "Amount of duplicate data:  0\n"
     ]
    }
   ],
   "source": [
    "df.drop_duplicates(inplace = True)\n",
    "\n",
    "print(\"Amount of duplicate data: \", sum(df.duplicated()))"
   ]
  },
  {
   "cell_type": "markdown",
   "metadata": {},
   "source": [
    "#### **3.3. Drop Irrelevant Columns / Feature Selection**"
   ]
  },
  {
   "cell_type": "markdown",
   "metadata": {},
   "source": [
    "In analyzing later, we need to delete any columns that are not needed based on the domain knowledge we have."
   ]
  },
  {
   "cell_type": "markdown",
   "metadata": {},
   "source": [
    "**Attributes Information**\n",
    "\n",
    "| **Attribute** | **Data Type** | **Description** |\n",
    "| --- | --- | --- |\n",
    "| Type | Object | Car brand |\n",
    "| Region | Object | Used car sales area |\n",
    "| Make | Object | Name of car manufacturer |\n",
    "| Gear_Type | Object | Type of gear used (Automatic / Manual) |\n",
    "| Origin | Object | Car importing country (Gulf / Saudi / Other / Unknown) |\n",
    "| Options | Object | Option used (Full Options / Semi-Full / Standard) |\n",
    "| Year | Integer | Year of car manufacture |\n",
    "| Engine_Size | Float | Car engine size |\n",
    "| Mileage | Integer |Distance traveled by vehicle (KM) |\n",
    "| Negotiable | Boolean | If True, then the price is 0 because the price is determined through negotiation |\n",
    "| Price | Integer | Used car prices (SAR) |"
   ]
  },
  {
   "cell_type": "markdown",
   "metadata": {},
   "source": [
    "##### **3.3.1. Feature's \"Negotiable\"**"
   ]
  },
  {
   "cell_type": "markdown",
   "metadata": {},
   "source": [
    "Then we will remove the \"Negotiable\" feature because in making machine learning models we must have a definite price in selling used cars. Judging from the datasets, the \"Price\" value is zero because the \"Negotiable\" feature is True. This indicates that the price is determined through negotiations which makes the certainty of the price of a used car biased. Therefore we will remove the feature \"Negotiable\"."
   ]
  },
  {
   "cell_type": "code",
   "execution_count": 7,
   "metadata": {},
   "outputs": [],
   "source": [
    "df.drop(columns = ['Negotiable'], inplace=True) "
   ]
  },
  {
   "cell_type": "markdown",
   "metadata": {},
   "source": [
    "##### **3.3.2. Feature's \"Origin\"**"
   ]
  },
  {
   "cell_type": "markdown",
   "metadata": {},
   "source": [
    "Based on the article published on [kenresearch.com](https://www.kenresearch.com/blog/2020/09/future-of-saudi-arabia-used-car-market-growth-rate-ken-research/) , there is no parameter or effect of used car sales in Saudi Arabia based on car importing countries. Therefore we will remove the \"Origin\" feature."
   ]
  },
  {
   "cell_type": "code",
   "execution_count": 8,
   "metadata": {},
   "outputs": [],
   "source": [
    "df.drop(columns = ['Origin'], inplace=True) "
   ]
  },
  {
   "cell_type": "markdown",
   "metadata": {},
   "source": [
    "After getting data by removing unnecessary features, the remaining features are getting less and less. If analyzed using domain knowledge, there are no more features that need to be deleted so the feature selection process stops here. If the feature selection process is carried out again outside the domain knowledge, it is feared that the model created will be underfitting because of the lack of features from the datasets."
   ]
  },
  {
   "cell_type": "markdown",
   "metadata": {},
   "source": [
    "#### **3.4. Drop Irrelevant Indices**"
   ]
  },
  {
   "cell_type": "markdown",
   "metadata": {},
   "source": [
    "In analyzing later, we need to delete any index that is not needed based on the domain knowledge we have. In analyzing the data, of course, we will think that the data outlier is very disturbing. However, not all data outliers must be deleted because the placement of the data is correct as it is based on accepted facts and reality. In data science, we often make assumptions about a particular population. However, the existence of an extreme outlier value can have a significant impact on the interpretation results that we observe from machine learning data or models. With proper handling, we can consider extreme outlier data as distinct populations."
   ]
  },
  {
   "cell_type": "markdown",
   "metadata": {},
   "source": [
    "Before dealing with extreme outlier data, let's first try to see which parts of the index do not make sense."
   ]
  },
  {
   "cell_type": "code",
   "execution_count": 9,
   "metadata": {},
   "outputs": [
    {
     "data": {
      "text/html": [
       "<div>\n",
       "<style scoped>\n",
       "    .dataframe tbody tr th:only-of-type {\n",
       "        vertical-align: middle;\n",
       "    }\n",
       "\n",
       "    .dataframe tbody tr th {\n",
       "        vertical-align: top;\n",
       "    }\n",
       "\n",
       "    .dataframe thead th {\n",
       "        text-align: right;\n",
       "    }\n",
       "</style>\n",
       "<table border=\"1\" class=\"dataframe\">\n",
       "  <thead>\n",
       "    <tr style=\"text-align: right;\">\n",
       "      <th></th>\n",
       "      <th>Year</th>\n",
       "      <th>Engine_Size</th>\n",
       "      <th>Mileage</th>\n",
       "      <th>Price</th>\n",
       "    </tr>\n",
       "  </thead>\n",
       "  <tbody>\n",
       "    <tr>\n",
       "      <th>count</th>\n",
       "      <td>5620.000000</td>\n",
       "      <td>5620.000000</td>\n",
       "      <td>5.620000e+03</td>\n",
       "      <td>5620.000000</td>\n",
       "    </tr>\n",
       "    <tr>\n",
       "      <th>mean</th>\n",
       "      <td>2014.100356</td>\n",
       "      <td>3.296299</td>\n",
       "      <td>1.509222e+05</td>\n",
       "      <td>53086.404448</td>\n",
       "    </tr>\n",
       "    <tr>\n",
       "      <th>std</th>\n",
       "      <td>5.793003</td>\n",
       "      <td>1.515253</td>\n",
       "      <td>3.829633e+05</td>\n",
       "      <td>70175.153207</td>\n",
       "    </tr>\n",
       "    <tr>\n",
       "      <th>min</th>\n",
       "      <td>1963.000000</td>\n",
       "      <td>1.000000</td>\n",
       "      <td>1.000000e+02</td>\n",
       "      <td>0.000000</td>\n",
       "    </tr>\n",
       "    <tr>\n",
       "      <th>25%</th>\n",
       "      <td>2012.000000</td>\n",
       "      <td>2.000000</td>\n",
       "      <td>3.800000e+04</td>\n",
       "      <td>0.000000</td>\n",
       "    </tr>\n",
       "    <tr>\n",
       "      <th>50%</th>\n",
       "      <td>2016.000000</td>\n",
       "      <td>3.000000</td>\n",
       "      <td>1.030000e+05</td>\n",
       "      <td>36500.000000</td>\n",
       "    </tr>\n",
       "    <tr>\n",
       "      <th>75%</th>\n",
       "      <td>2018.000000</td>\n",
       "      <td>4.500000</td>\n",
       "      <td>1.960000e+05</td>\n",
       "      <td>73000.000000</td>\n",
       "    </tr>\n",
       "    <tr>\n",
       "      <th>max</th>\n",
       "      <td>2022.000000</td>\n",
       "      <td>9.000000</td>\n",
       "      <td>2.000000e+07</td>\n",
       "      <td>850000.000000</td>\n",
       "    </tr>\n",
       "  </tbody>\n",
       "</table>\n",
       "</div>"
      ],
      "text/plain": [
       "              Year  Engine_Size       Mileage          Price\n",
       "count  5620.000000  5620.000000  5.620000e+03    5620.000000\n",
       "mean   2014.100356     3.296299  1.509222e+05   53086.404448\n",
       "std       5.793003     1.515253  3.829633e+05   70175.153207\n",
       "min    1963.000000     1.000000  1.000000e+02       0.000000\n",
       "25%    2012.000000     2.000000  3.800000e+04       0.000000\n",
       "50%    2016.000000     3.000000  1.030000e+05   36500.000000\n",
       "75%    2018.000000     4.500000  1.960000e+05   73000.000000\n",
       "max    2022.000000     9.000000  2.000000e+07  850000.000000"
      ]
     },
     "execution_count": 9,
     "metadata": {},
     "output_type": "execute_result"
    }
   ],
   "source": [
    "df.describe()"
   ]
  },
  {
   "cell_type": "markdown",
   "metadata": {},
   "source": [
    "##### **3.4.1. Feature \"Mileage\"**"
   ]
  },
  {
   "cell_type": "markdown",
   "metadata": {},
   "source": [
    "In this feature, we will see if any values that don't make sense enter the datasets. Based on the description of the table above, we see that there is a maximum value of *feature* \"Mileage\" with a value of 20 million. This certainly doesn't make sense considering that the odometer of a car when it reaches a mileage of 999,999 KM will return to 0. Therefore, we will remove the index from the feature \"Mileage\" which is more than 999,999."
   ]
  },
  {
   "cell_type": "code",
   "execution_count": 10,
   "metadata": {},
   "outputs": [
    {
     "name": "stdout",
     "output_type": "stream",
     "text": [
      "Number of data mileage more than 999,999 KM: 32 data\n"
     ]
    }
   ],
   "source": [
    "print(\"Number of data mileage more than 999,999 KM:\",df[df['Mileage'] > 999999]['Mileage'].count(), \"data\")"
   ]
  },
  {
   "cell_type": "code",
   "execution_count": 11,
   "metadata": {},
   "outputs": [],
   "source": [
    "df = df[df['Mileage'] < 1000000]"
   ]
  },
  {
   "cell_type": "markdown",
   "metadata": {},
   "source": [
    "##### **3.4.2. Target \"Price\"**"
   ]
  },
  {
   "cell_type": "markdown",
   "metadata": {},
   "source": [
    "Mari kita cek apakah terdapat harga yang bernilai 0."
   ]
  },
  {
   "cell_type": "code",
   "execution_count": 12,
   "metadata": {},
   "outputs": [
    {
     "name": "stdout",
     "output_type": "stream",
     "text": [
      "Amount of data whose price is 0: 1780 data\n"
     ]
    }
   ],
   "source": [
    "print(\"Amount of data whose price is 0:\", df[df['Price']==0]['Price'].count(), 'data')"
   ]
  },
  {
   "cell_type": "markdown",
   "metadata": {},
   "source": [
    "Of course, the price of 0 is very unreasonable considering that 0 represents the phrase \"free\". We check again for another unreasonable price. In this case, we will set a minimum price limit for selling a used car of 3000 SAR. Why 3000 SAR? Because I assume used cars sold at a maximum range of 10000 SAR are cars that have to go to a repair shop first. We will remove all car prices below 3000 SAR. With an exchange rate of 1 SAR which is equivalent to 4000 Rupiah, of course, the price below 12 million Rupiah (3000 SAR) for Arabs is a very small number because [their per capita income](https://id.tradingeconomics.com/saudi-arabia/gdp-per-capita) 5 times higher than Indonesians.\n",
    "\n",
    "If only there was a *feature* about \"need to enter the workshop first or not\", we don't need to delete these data. Because these *features* will definitely make the price of the car tilt down."
   ]
  },
  {
   "cell_type": "code",
   "execution_count": 13,
   "metadata": {},
   "outputs": [
    {
     "name": "stdout",
     "output_type": "stream",
     "text": [
      "Amount of data that costs <= 3000: 1841 data\n"
     ]
    }
   ],
   "source": [
    "print(\"Amount of data that costs <= 3000:\",df[df['Price']<3000]['Price'].count(), 'data')"
   ]
  },
  {
   "cell_type": "code",
   "execution_count": 14,
   "metadata": {},
   "outputs": [],
   "source": [
    "df = df[df['Price'] >= 3000]"
   ]
  },
  {
   "cell_type": "markdown",
   "metadata": {},
   "source": [
    "##### **3.4.3. Extreme Outliers**"
   ]
  },
  {
   "cell_type": "markdown",
   "metadata": {},
   "source": [
    "The existence of data outliers does affect the results of the machine learning model that we will create. Sometimes the outlier value does not mean the data is bad because it could be that the outlier data contains information that we can use to analyze the data so we don't need to delete it.\n",
    "<br>\n",
    "<br>\n",
    "For the reasons above, in this case, we will remove only the extreme outlier data."
   ]
  },
  {
   "cell_type": "markdown",
   "metadata": {},
   "source": [
    "Let's check all the data that has outlier data that only has numeric values."
   ]
  },
  {
   "cell_type": "code",
   "execution_count": 15,
   "metadata": {},
   "outputs": [],
   "source": [
    "def check_outlier(col):\n",
    "    \n",
    "    Q1 = np.percentile(col, 25)\n",
    "    Q3 = np.percentile(col, 75)\n",
    "\n",
    "    IQR = Q3 - Q1\n",
    "\n",
    "    batas_bawah = Q1 - (IQR * 1.5)\n",
    "    batas_atas = Q3 + (IQR * 1.5)\n",
    "\n",
    "    data_outliers = col[(col < batas_bawah) | (col > batas_atas)]\n",
    "    return data_outliers"
   ]
  },
  {
   "cell_type": "code",
   "execution_count": 16,
   "metadata": {},
   "outputs": [
    {
     "name": "stdout",
     "output_type": "stream",
     "text": [
      "Feature Year has 180 outlier\n",
      "Feature Engine_Size has 30 outlier\n",
      "Feature Mileage has 115 outlier\n",
      "Feature Price has 259 outlier\n"
     ]
    }
   ],
   "source": [
    "feature_outlier = []\n",
    "for col in df.select_dtypes(['float','int']):\n",
    "    outliers = check_outlier(df[col])\n",
    "    if len(outliers):\n",
    "        print(f\"Feature\",col, \"has\", len(outliers), \"outlier\")\n",
    "        feature_outlier.append(col)\n",
    "    else:\n",
    "        print(f\"Feature\", col, \"has no outlier\")"
   ]
  },
  {
   "cell_type": "markdown",
   "metadata": {},
   "source": [
    "Now let's look at the visualization of each numeric data that has outliers. The plot used is the Boxplot type because this type is specifically designed to visualize outlier data."
   ]
  },
  {
   "cell_type": "code",
   "execution_count": 17,
   "metadata": {},
   "outputs": [
    {
     "data": {
      "image/png": "[encoded data removed]",
      "text/plain": [
       "<Figure size 1440x720 with 4 Axes>"
      ]
     },
     "metadata": {
      "needs_background": "light"
     },
     "output_type": "display_data"
    }
   ],
   "source": [
    "fig, axs = plt.subplots(2, 2, figsize = (20,10))\n",
    "i = 0\n",
    "loca = [axs[0,0], axs[0,1], axs[1,0], axs[1,1]]\n",
    "\n",
    "for col in feature_outlier:\n",
    "    sns.boxplot(df[col], ax = loca[i], color= 'grey')\n",
    "    i += 1\n",
    "    \n",
    "plt.show()"
   ]
  },
  {
   "cell_type": "markdown",
   "metadata": {},
   "source": [
    "From the plot above, there are 2 columns \"Year\" and \"Price\" which have extreme outliers. For Feature \"Year\", we will delete years below 1970 and target \"Price\" which is more than 700000. By removing \"Year\" below 1970, we will get \"Least Year\" is 1978. These will be limitations of the model created. Then for \"Price\" after being deleted, which is more than 700000, the most expensive price will be 620000 which will also be a limitation of the model made."
   ]
  },
  {
   "cell_type": "code",
   "execution_count": 18,
   "metadata": {},
   "outputs": [],
   "source": [
    "df = df[df['Year'] > 1970]\n",
    "df = df[df['Price'] <= 700000]"
   ]
  },
  {
   "cell_type": "code",
   "execution_count": 44,
   "metadata": {},
   "outputs": [
    {
     "name": "stdout",
     "output_type": "stream",
     "text": [
      "Oldest car from data: 1978 and most expensive from data: 620000 SAR\n"
     ]
    }
   ],
   "source": [
    "print(\"Oldest car from data:\", df['Year'].min(),\"and most expensive from data:\", df['Price'].max(), \"SAR\")"
   ]
  },
  {
   "cell_type": "markdown",
   "metadata": {},
   "source": [
    "#### **3.5 Check Data Correlation**"
   ]
  },
  {
   "cell_type": "code",
   "execution_count": 20,
   "metadata": {},
   "outputs": [
    {
     "data": {
      "image/png": "[encoded data removed]",
      "text/plain": [
       "<Figure size 1080x864 with 2 Axes>"
      ]
     },
     "metadata": {
      "needs_background": "light"
     },
     "output_type": "display_data"
    }
   ],
   "source": [
    "plt.figure(figsize = (15, 12))\n",
    "palette=sns.diverging_palette(20, 220, n = 256)\n",
    "corr = df.corr(method = 'spearman')\n",
    "sns.heatmap(corr , annot = True , fmt='.2f', cmap = \"Greys\", square = True, linewidths = .5)\n",
    "plt.title('Correlation Matrix', size = 15, weight = 'bold');"
   ]
  },
  {
   "cell_type": "markdown",
   "metadata": {},
   "source": [
    "Seen from the matrix above, the \"Year\" feature has the strongest correlation to the target variable \"Price\". Next we will check whether there is multicollinearity in the datasets."
   ]
  },
  {
   "cell_type": "code",
   "execution_count": 21,
   "metadata": {},
   "outputs": [],
   "source": [
    "from statsmodels.stats.outliers_influence import variance_inflation_factor\n",
    "\n",
    "def calc_vif(X):\n",
    "    vif = pd.DataFrame()\n",
    "    vif['variables'] = X.columns\n",
    "    vif['VIF'] = [variance_inflation_factor(X.values, i) for i in range(X.shape[1])]\n",
    "    return(vif)"
   ]
  },
  {
   "cell_type": "code",
   "execution_count": 22,
   "metadata": {},
   "outputs": [
    {
     "data": {
      "text/html": [
       "<div>\n",
       "<style scoped>\n",
       "    .dataframe tbody tr th:only-of-type {\n",
       "        vertical-align: middle;\n",
       "    }\n",
       "\n",
       "    .dataframe tbody tr th {\n",
       "        vertical-align: top;\n",
       "    }\n",
       "\n",
       "    .dataframe thead th {\n",
       "        text-align: right;\n",
       "    }\n",
       "</style>\n",
       "<table border=\"1\" class=\"dataframe\">\n",
       "  <thead>\n",
       "    <tr style=\"text-align: right;\">\n",
       "      <th></th>\n",
       "      <th>variables</th>\n",
       "      <th>VIF</th>\n",
       "    </tr>\n",
       "  </thead>\n",
       "  <tbody>\n",
       "    <tr>\n",
       "      <th>0</th>\n",
       "      <td>Year</td>\n",
       "      <td>7.158185</td>\n",
       "    </tr>\n",
       "    <tr>\n",
       "      <th>1</th>\n",
       "      <td>Engine_Size</td>\n",
       "      <td>6.856337</td>\n",
       "    </tr>\n",
       "    <tr>\n",
       "      <th>2</th>\n",
       "      <td>Mileage</td>\n",
       "      <td>2.764757</td>\n",
       "    </tr>\n",
       "    <tr>\n",
       "      <th>3</th>\n",
       "      <td>Price</td>\n",
       "      <td>2.917692</td>\n",
       "    </tr>\n",
       "  </tbody>\n",
       "</table>\n",
       "</div>"
      ],
      "text/plain": [
       "     variables       VIF\n",
       "0         Year  7.158185\n",
       "1  Engine_Size  6.856337\n",
       "2      Mileage  2.764757\n",
       "3        Price  2.917692"
      ]
     },
     "execution_count": 22,
     "metadata": {},
     "output_type": "execute_result"
    }
   ],
   "source": [
    "calc_vif(df[feature_outlier])"
   ]
  },
  {
   "cell_type": "markdown",
   "metadata": {},
   "source": [
    "A VIF value that is more than 4 is classified as multicollinearity. In data science, we should delete features whose VIF value is more than 4. However, in these datasets, we should not delete those features because the \"Year\" and \"Engine_Size\" features have a big influence on used car sales."
   ]
  },
  {
   "cell_type": "markdown",
   "metadata": {},
   "source": [
    "#### **3.6 Clean Dataset**"
   ]
  },
  {
   "cell_type": "code",
   "execution_count": 23,
   "metadata": {},
   "outputs": [
    {
     "data": {
      "text/html": [
       "<div>\n",
       "<style scoped>\n",
       "    .dataframe tbody tr th:only-of-type {\n",
       "        vertical-align: middle;\n",
       "    }\n",
       "\n",
       "    .dataframe tbody tr th {\n",
       "        vertical-align: top;\n",
       "    }\n",
       "\n",
       "    .dataframe thead th {\n",
       "        text-align: right;\n",
       "    }\n",
       "</style>\n",
       "<table border=\"1\" class=\"dataframe\">\n",
       "  <thead>\n",
       "    <tr style=\"text-align: right;\">\n",
       "      <th></th>\n",
       "      <th>Type</th>\n",
       "      <th>Region</th>\n",
       "      <th>Make</th>\n",
       "      <th>Gear_Type</th>\n",
       "      <th>Options</th>\n",
       "      <th>Year</th>\n",
       "      <th>Engine_Size</th>\n",
       "      <th>Mileage</th>\n",
       "      <th>Price</th>\n",
       "    </tr>\n",
       "  </thead>\n",
       "  <tbody>\n",
       "    <tr>\n",
       "      <th>0</th>\n",
       "      <td>Yukon</td>\n",
       "      <td>Riyadh</td>\n",
       "      <td>GMC</td>\n",
       "      <td>Automatic</td>\n",
       "      <td>Full</td>\n",
       "      <td>2014</td>\n",
       "      <td>8.0</td>\n",
       "      <td>80000</td>\n",
       "      <td>120000</td>\n",
       "    </tr>\n",
       "    <tr>\n",
       "      <th>1</th>\n",
       "      <td>Range Rover</td>\n",
       "      <td>Riyadh</td>\n",
       "      <td>Land Rover</td>\n",
       "      <td>Automatic</td>\n",
       "      <td>Full</td>\n",
       "      <td>2015</td>\n",
       "      <td>5.0</td>\n",
       "      <td>140000</td>\n",
       "      <td>260000</td>\n",
       "    </tr>\n",
       "    <tr>\n",
       "      <th>2</th>\n",
       "      <td>Optima</td>\n",
       "      <td>Hafar Al-Batin</td>\n",
       "      <td>Kia</td>\n",
       "      <td>Automatic</td>\n",
       "      <td>Semi Full</td>\n",
       "      <td>2015</td>\n",
       "      <td>2.4</td>\n",
       "      <td>220000</td>\n",
       "      <td>42000</td>\n",
       "    </tr>\n",
       "    <tr>\n",
       "      <th>3</th>\n",
       "      <td>CX3</td>\n",
       "      <td>Abha</td>\n",
       "      <td>Mazda</td>\n",
       "      <td>Automatic</td>\n",
       "      <td>Semi Full</td>\n",
       "      <td>2019</td>\n",
       "      <td>2.0</td>\n",
       "      <td>25000</td>\n",
       "      <td>58000</td>\n",
       "    </tr>\n",
       "    <tr>\n",
       "      <th>4</th>\n",
       "      <td>Cayenne S</td>\n",
       "      <td>Riyadh</td>\n",
       "      <td>Porsche</td>\n",
       "      <td>Automatic</td>\n",
       "      <td>Full</td>\n",
       "      <td>2012</td>\n",
       "      <td>4.8</td>\n",
       "      <td>189000</td>\n",
       "      <td>85000</td>\n",
       "    </tr>\n",
       "    <tr>\n",
       "      <th>...</th>\n",
       "      <td>...</td>\n",
       "      <td>...</td>\n",
       "      <td>...</td>\n",
       "      <td>...</td>\n",
       "      <td>...</td>\n",
       "      <td>...</td>\n",
       "      <td>...</td>\n",
       "      <td>...</td>\n",
       "      <td>...</td>\n",
       "    </tr>\n",
       "    <tr>\n",
       "      <th>3737</th>\n",
       "      <td>CX9</td>\n",
       "      <td>Qassim</td>\n",
       "      <td>Mazda</td>\n",
       "      <td>Automatic</td>\n",
       "      <td>Full</td>\n",
       "      <td>2020</td>\n",
       "      <td>2.0</td>\n",
       "      <td>9500</td>\n",
       "      <td>132000</td>\n",
       "    </tr>\n",
       "    <tr>\n",
       "      <th>3738</th>\n",
       "      <td>Suburban</td>\n",
       "      <td>Riyadh</td>\n",
       "      <td>GMC</td>\n",
       "      <td>Automatic</td>\n",
       "      <td>Full</td>\n",
       "      <td>2006</td>\n",
       "      <td>5.3</td>\n",
       "      <td>86000</td>\n",
       "      <td>50000</td>\n",
       "    </tr>\n",
       "    <tr>\n",
       "      <th>3739</th>\n",
       "      <td>X-Trail</td>\n",
       "      <td>Jeddah</td>\n",
       "      <td>Nissan</td>\n",
       "      <td>Automatic</td>\n",
       "      <td>Standard</td>\n",
       "      <td>2018</td>\n",
       "      <td>2.5</td>\n",
       "      <td>78794</td>\n",
       "      <td>68000</td>\n",
       "    </tr>\n",
       "    <tr>\n",
       "      <th>3740</th>\n",
       "      <td>Yukon</td>\n",
       "      <td>Dammam</td>\n",
       "      <td>GMC</td>\n",
       "      <td>Automatic</td>\n",
       "      <td>Full</td>\n",
       "      <td>2016</td>\n",
       "      <td>5.3</td>\n",
       "      <td>48000</td>\n",
       "      <td>145000</td>\n",
       "    </tr>\n",
       "    <tr>\n",
       "      <th>3741</th>\n",
       "      <td>RX</td>\n",
       "      <td>Dammam</td>\n",
       "      <td>Lexus</td>\n",
       "      <td>Automatic</td>\n",
       "      <td>Full</td>\n",
       "      <td>2016</td>\n",
       "      <td>2.5</td>\n",
       "      <td>81000</td>\n",
       "      <td>154000</td>\n",
       "    </tr>\n",
       "  </tbody>\n",
       "</table>\n",
       "<p>3742 rows × 9 columns</p>\n",
       "</div>"
      ],
      "text/plain": [
       "             Type          Region        Make  Gear_Type    Options  Year  \\\n",
       "0           Yukon          Riyadh         GMC  Automatic       Full  2014   \n",
       "1     Range Rover          Riyadh  Land Rover  Automatic       Full  2015   \n",
       "2          Optima  Hafar Al-Batin         Kia  Automatic  Semi Full  2015   \n",
       "3             CX3            Abha       Mazda  Automatic  Semi Full  2019   \n",
       "4       Cayenne S          Riyadh     Porsche  Automatic       Full  2012   \n",
       "...           ...             ...         ...        ...        ...   ...   \n",
       "3737          CX9          Qassim       Mazda  Automatic       Full  2020   \n",
       "3738     Suburban          Riyadh         GMC  Automatic       Full  2006   \n",
       "3739      X-Trail          Jeddah      Nissan  Automatic   Standard  2018   \n",
       "3740        Yukon          Dammam         GMC  Automatic       Full  2016   \n",
       "3741           RX          Dammam       Lexus  Automatic       Full  2016   \n",
       "\n",
       "      Engine_Size  Mileage   Price  \n",
       "0             8.0    80000  120000  \n",
       "1             5.0   140000  260000  \n",
       "2             2.4   220000   42000  \n",
       "3             2.0    25000   58000  \n",
       "4             4.8   189000   85000  \n",
       "...           ...      ...     ...  \n",
       "3737          2.0     9500  132000  \n",
       "3738          5.3    86000   50000  \n",
       "3739          2.5    78794   68000  \n",
       "3740          5.3    48000  145000  \n",
       "3741          2.5    81000  154000  \n",
       "\n",
       "[3742 rows x 9 columns]"
      ]
     },
     "execution_count": 23,
     "metadata": {},
     "output_type": "execute_result"
    }
   ],
   "source": [
    "df.reset_index(drop = True, inplace = True)\n",
    "df"
   ]
  },
  {
   "cell_type": "markdown",
   "metadata": {},
   "source": [
    "The data results after cleaning are 3742 indexes and 9 columns."
   ]
  },
  {
   "cell_type": "markdown",
   "metadata": {},
   "source": [
    "### **4. Modeling**"
   ]
  },
  {
   "cell_type": "code",
   "execution_count": 24,
   "metadata": {},
   "outputs": [],
   "source": [
    "# Import library untuk modeling\n",
    "\n",
    "from sklearn.model_selection import train_test_split, cross_val_score, GridSearchCV, KFold\n",
    "\n",
    "from category_encoders import BinaryEncoder\n",
    "\n",
    "from sklearn.preprocessing import OneHotEncoder\n",
    "from sklearn.compose import ColumnTransformer, TransformedTargetRegressor\n",
    "from sklearn.pipeline import Pipeline\n",
    "\n",
    "from sklearn.linear_model import LinearRegression\n",
    "from sklearn.neighbors import KNeighborsRegressor\n",
    "from sklearn.tree import DecisionTreeRegressor\n",
    "from sklearn.ensemble import RandomForestRegressor, GradientBoostingRegressor\n",
    "from xgboost.sklearn import XGBRegressor\n",
    "\n",
    "from sklearn.metrics import r2_score, mean_absolute_error, mean_absolute_percentage_error, get_scorer_names, mean_squared_log_error"
   ]
  },
  {
   "cell_type": "code",
   "execution_count": 25,
   "metadata": {},
   "outputs": [],
   "source": [
    "# get_scorer_names()"
   ]
  },
  {
   "cell_type": "markdown",
   "metadata": {},
   "source": [
    "In modeling we will use a total of 6 types of models, namely 3 base models and 3 ensemble models which will eventually be selected. The models that will be used are as follows:\n",
    "\n",
    "Base Model:\n",
    "\n",
    "1. Linear Regression\n",
    "2. KNN Regression\n",
    "3. Decision Tree Regression\n",
    "\n",
    "Ensemble Model:\n",
    "\n",
    "1. Random Forest Regression\n",
    "2. Gradient Boosting Regression\n",
    "3. Xtreme Gradient Boosting Regessor"
   ]
  },
  {
   "cell_type": "markdown",
   "metadata": {},
   "source": [
    "#### **4.1 Encoding**"
   ]
  },
  {
   "cell_type": "markdown",
   "metadata": {},
   "source": [
    "Before doing the modeling, first, we will encode the feature type category. The actual encoding process will be carried out during the modeling process, here we will only create the encoding function. Here we will use the Binary Encoder and One Hot Encoder. The Binary Encoder is used when the category has a large number of uniques, while the One Hot Encoder is used for categories where the number of uniques can still be counted on the fingers.\n",
    "<br>\n",
    "<br>\n",
    "Now we will see the number of unique from each feature which is a category type."
   ]
  },
  {
   "cell_type": "code",
   "execution_count": 26,
   "metadata": {},
   "outputs": [
    {
     "data": {
      "text/html": [
       "<div>\n",
       "<style scoped>\n",
       "    .dataframe tbody tr th:only-of-type {\n",
       "        vertical-align: middle;\n",
       "    }\n",
       "\n",
       "    .dataframe tbody tr th {\n",
       "        vertical-align: top;\n",
       "    }\n",
       "\n",
       "    .dataframe thead th {\n",
       "        text-align: right;\n",
       "    }\n",
       "</style>\n",
       "<table border=\"1\" class=\"dataframe\">\n",
       "  <thead>\n",
       "    <tr style=\"text-align: right;\">\n",
       "      <th></th>\n",
       "      <th>Data Features</th>\n",
       "      <th>Data Types</th>\n",
       "      <th>Unique</th>\n",
       "      <th>Unique Sample</th>\n",
       "    </tr>\n",
       "  </thead>\n",
       "  <tbody>\n",
       "    <tr>\n",
       "      <th>0</th>\n",
       "      <td>Type</td>\n",
       "      <td>object</td>\n",
       "      <td>316</td>\n",
       "      <td>[H1]</td>\n",
       "    </tr>\n",
       "    <tr>\n",
       "      <th>1</th>\n",
       "      <td>Region</td>\n",
       "      <td>object</td>\n",
       "      <td>27</td>\n",
       "      <td>[Sakaka]</td>\n",
       "    </tr>\n",
       "    <tr>\n",
       "      <th>2</th>\n",
       "      <td>Make</td>\n",
       "      <td>object</td>\n",
       "      <td>56</td>\n",
       "      <td>[Aston Martin]</td>\n",
       "    </tr>\n",
       "    <tr>\n",
       "      <th>3</th>\n",
       "      <td>Gear_Type</td>\n",
       "      <td>object</td>\n",
       "      <td>2</td>\n",
       "      <td>[Automatic]</td>\n",
       "    </tr>\n",
       "    <tr>\n",
       "      <th>4</th>\n",
       "      <td>Options</td>\n",
       "      <td>object</td>\n",
       "      <td>3</td>\n",
       "      <td>[Standard]</td>\n",
       "    </tr>\n",
       "  </tbody>\n",
       "</table>\n",
       "</div>"
      ],
      "text/plain": [
       "  Data Features Data Types  Unique   Unique Sample\n",
       "0          Type     object     316            [H1]\n",
       "1        Region     object      27        [Sakaka]\n",
       "2          Make     object      56  [Aston Martin]\n",
       "3     Gear_Type     object       2     [Automatic]\n",
       "4       Options     object       3      [Standard]"
      ]
     },
     "execution_count": 26,
     "metadata": {},
     "output_type": "execute_result"
    }
   ],
   "source": [
    "listdesc = []\n",
    "for col in df.select_dtypes('object').columns:\n",
    "    listdesc.append([col,\n",
    "                     df[col].dtypes,\n",
    "                     df[col].nunique(),\n",
    "                     df[col].drop_duplicates().sample(1).values])\n",
    "\n",
    "pd.DataFrame(listdesc, columns=['Data Features',\n",
    "                               'Data Types',\n",
    "                               'Unique',\n",
    "                               'Unique Sample'])"
   ]
  },
  {
   "cell_type": "markdown",
   "metadata": {},
   "source": [
    "From the data above we see that the \"Type\", \"Region\", and \"Make\" features will use the Binary Encoder and the rest will use the One Hot Encoder."
   ]
  },
  {
   "cell_type": "code",
   "execution_count": 27,
   "metadata": {},
   "outputs": [],
   "source": [
    "ct = ColumnTransformer([\n",
    "    ('One Hot Encoder', OneHotEncoder(drop='first'), ['Gear_Type', 'Options']),\n",
    "    ('Binary Encoder', BinaryEncoder(), ['Type', 'Region', 'Make'])\n",
    "], remainder='passthrough')"
   ]
  },
  {
   "cell_type": "markdown",
   "metadata": {},
   "source": [
    "#### **4.2 Splitting the Data**"
   ]
  },
  {
   "cell_type": "code",
   "execution_count": 28,
   "metadata": {},
   "outputs": [],
   "source": [
    "X = df.drop(['Price'], axis=1)\n",
    "y = df['Price']\n",
    "\n",
    "X_train, X_test, y_train, y_test= train_test_split(X, y, test_size = 0.3, random_state = 100)"
   ]
  },
  {
   "cell_type": "markdown",
   "metadata": {},
   "source": [
    "### **4.3 Benchmark the Models**"
   ]
  },
  {
   "cell_type": "markdown",
   "metadata": {},
   "source": [
    "Next, we will look for models for the datasets. The model search is divided into 3 stages. The first is looking for a basic model that will be compared to train and test values based on the metric evaluation. After obtaining the basic model, the second one will continue with hyperparameter tuning to get what parameters are considered the best based on the metric evaluation. After getting the base model with the best benchmark, the last step is to try the model into test data by looking at the results of the metric evaluation. It is hoped that this last stage can improve performance based on the results of the metric evaluation."
   ]
  },
  {
   "cell_type": "markdown",
   "metadata": {},
   "source": [
    "##### **4.3.1 Choose Base Model**"
   ]
  },
  {
   "cell_type": "markdown",
   "metadata": {},
   "source": [
    "First Stage.\n",
    "<br>\n",
    "<br>\n",
    "Here we will look for the base model using the models mentioned in the \"Modeling\" section. Each model will be tested to the data train of the datasets and see how the value of each *metric evaluation* is. There is one additional function which is TransformedTargetRegressor. This function makes the Target variable scale smaller which makes the data more normally distributed. After the Target is processed, this function will return the initial value of the Target to its original value so that the results obtained will be maximized."
   ]
  },
  {
   "cell_type": "markdown",
   "metadata": {},
   "source": [
    "Data *Train*"
   ]
  },
  {
   "cell_type": "code",
   "execution_count": 29,
   "metadata": {},
   "outputs": [],
   "source": [
    "lr = LinearRegression()\n",
    "knn = KNeighborsRegressor()\n",
    "dt = DecisionTreeRegressor(random_state = 100)\n",
    "rf = RandomForestRegressor(random_state = 100)\n",
    "gdt = GradientBoostingRegressor(random_state = 100)\n",
    "xgb = XGBRegressor(random_state = 100)\n",
    "\n",
    "ttr_lr = TransformedTargetRegressor(lr, func = np.log, inverse_func = np.exp)\n",
    "ttr_knn = TransformedTargetRegressor(knn, func = np.log, inverse_func = np.exp)\n",
    "ttr_dt = TransformedTargetRegressor(dt, func = np.log, inverse_func = np.exp)\n",
    "ttr_rf = TransformedTargetRegressor(rf, func = np.log, inverse_func = np.exp)\n",
    "ttr_gdt = TransformedTargetRegressor(gdt, func = np.log, inverse_func = np.exp)\n",
    "ttr_xgb = TransformedTargetRegressor(xgb, func = np.log, inverse_func = np.exp)\n",
    "\n",
    "models = [ttr_lr, ttr_knn, ttr_dt, ttr_rf, ttr_gdt, ttr_xgb]\n",
    "\n",
    "score_mae = []\n",
    "score_mape = []\n",
    "score_rmsle = []\n",
    "score_r2 = []\n",
    "\n",
    "for model in models:\n",
    "    \n",
    "    cross_val = KFold(n_splits = 5, shuffle = True, random_state = 100)\n",
    "    estimator = Pipeline([\n",
    "        ('preprocessing', ct),\n",
    "        ('model', model)\n",
    "    ])\n",
    "\n",
    "    # MAE\n",
    "    model_cv_mae = cross_val_score(\n",
    "        estimator, \n",
    "        X_train, \n",
    "        y_train, \n",
    "        cv = cross_val, \n",
    "        scoring = 'neg_mean_absolute_error', \n",
    "        error_score = 'raise'\n",
    "        )\n",
    "\n",
    "    score_mae.append(model_cv_mae.mean())\n",
    "\n",
    "    # MAPE\n",
    "    model_cv_mape = cross_val_score(\n",
    "        estimator, \n",
    "        X_train, \n",
    "        y_train, \n",
    "        cv = cross_val, \n",
    "        scoring = 'neg_mean_absolute_percentage_error', \n",
    "        error_score = 'raise'\n",
    "        )\n",
    "\n",
    "    score_mape.append(model_cv_mape.mean())\n",
    "    \n",
    "       # RMSLE\n",
    "    model_cv_rmsle = cross_val_score(\n",
    "        estimator, \n",
    "        X_train, \n",
    "        y_train, \n",
    "        cv = cross_val, \n",
    "        scoring = 'neg_mean_squared_log_error', \n",
    "        error_score = 'raise'\n",
    "        )\n",
    "\n",
    "    score_rmsle.append(model_cv_rmsle.mean())\n",
    "\n",
    "       # R2\n",
    "    model_cv_r2  =  cross_val_score(\n",
    "        estimator, \n",
    "        X_train, \n",
    "        y_train, \n",
    "        cv = cross_val, \n",
    "        scoring = 'r2', \n",
    "        error_score = 'raise'\n",
    "        )\n",
    "\n",
    "    score_r2.append(model_cv_r2.mean())\n",
    "\n",
    "score_rmsle = np.sqrt(abs(np.array(score_rmsle)))"
   ]
  },
  {
   "cell_type": "markdown",
   "metadata": {},
   "source": [
    "Metric evaluation's result for each model"
   ]
  },
  {
   "cell_type": "code",
   "execution_count": 30,
   "metadata": {},
   "outputs": [
    {
     "data": {
      "text/html": [
       "<div>\n",
       "<style scoped>\n",
       "    .dataframe tbody tr th:only-of-type {\n",
       "        vertical-align: middle;\n",
       "    }\n",
       "\n",
       "    .dataframe tbody tr th {\n",
       "        vertical-align: top;\n",
       "    }\n",
       "\n",
       "    .dataframe thead th {\n",
       "        text-align: right;\n",
       "    }\n",
       "</style>\n",
       "<table border=\"1\" class=\"dataframe\">\n",
       "  <thead>\n",
       "    <tr style=\"text-align: right;\">\n",
       "      <th></th>\n",
       "      <th>Model</th>\n",
       "      <th>Score MAE</th>\n",
       "      <th>Score MAPE</th>\n",
       "      <th>Score RMSLE</th>\n",
       "      <th>Score R2</th>\n",
       "    </tr>\n",
       "  </thead>\n",
       "  <tbody>\n",
       "    <tr>\n",
       "      <th>0</th>\n",
       "      <td>Linear Regression</td>\n",
       "      <td>-27136.233624</td>\n",
       "      <td>-0.380233</td>\n",
       "      <td>0.477826</td>\n",
       "      <td>0.513030</td>\n",
       "    </tr>\n",
       "    <tr>\n",
       "      <th>1</th>\n",
       "      <td>KNN Regression</td>\n",
       "      <td>-41377.023852</td>\n",
       "      <td>-0.682019</td>\n",
       "      <td>0.696103</td>\n",
       "      <td>0.098630</td>\n",
       "    </tr>\n",
       "    <tr>\n",
       "      <th>2</th>\n",
       "      <td>Decision Tree Regression</td>\n",
       "      <td>-25049.526184</td>\n",
       "      <td>-0.392436</td>\n",
       "      <td>0.504277</td>\n",
       "      <td>0.547301</td>\n",
       "    </tr>\n",
       "    <tr>\n",
       "      <th>3</th>\n",
       "      <td>Random Forest Regression</td>\n",
       "      <td>-17604.891336</td>\n",
       "      <td>-0.246446</td>\n",
       "      <td>0.354368</td>\n",
       "      <td>0.748918</td>\n",
       "    </tr>\n",
       "    <tr>\n",
       "      <th>4</th>\n",
       "      <td>Gradient Boost Regression</td>\n",
       "      <td>-19560.458124</td>\n",
       "      <td>-0.259321</td>\n",
       "      <td>0.346124</td>\n",
       "      <td>0.718556</td>\n",
       "    </tr>\n",
       "    <tr>\n",
       "      <th>5</th>\n",
       "      <td>Extreme Gradient Boost</td>\n",
       "      <td>-15887.472257</td>\n",
       "      <td>-0.218698</td>\n",
       "      <td>0.314963</td>\n",
       "      <td>0.811174</td>\n",
       "    </tr>\n",
       "  </tbody>\n",
       "</table>\n",
       "</div>"
      ],
      "text/plain": [
       "                       Model     Score MAE  Score MAPE  Score RMSLE  Score R2\n",
       "0          Linear Regression -27136.233624   -0.380233     0.477826  0.513030\n",
       "1             KNN Regression -41377.023852   -0.682019     0.696103  0.098630\n",
       "2   Decision Tree Regression -25049.526184   -0.392436     0.504277  0.547301\n",
       "3   Random Forest Regression -17604.891336   -0.246446     0.354368  0.748918\n",
       "4  Gradient Boost Regression -19560.458124   -0.259321     0.346124  0.718556\n",
       "5     Extreme Gradient Boost -15887.472257   -0.218698     0.314963  0.811174"
      ]
     },
     "execution_count": 30,
     "metadata": {},
     "output_type": "execute_result"
    }
   ],
   "source": [
    "Model_name = ['Linear Regression', 'KNN Regression', 'Decision Tree Regression', 'Random Forest Regression', 'Gradient Boost Regression','Extreme Gradient Boost']\n",
    "\n",
    "train_score = pd.DataFrame({'Model': Model_name,\n",
    "                            'Score MAE': score_mae,\n",
    "                            'Score MAPE': score_mape,\n",
    "                            'Score RMSLE': score_rmsle,\n",
    "                            'Score R2': score_r2\n",
    "                            })\n",
    "\n",
    "train_score"
   ]
  },
  {
   "cell_type": "markdown",
   "metadata": {},
   "source": [
    "From the table above, it can be seen that Extreme Gradient Boost is the best model when tested on the data train. The results of the Extreme Gradient Boost metric evaluation show that each metric parameter has the smallest results compared to other models with an MAE value of 15887.472257, a MAPE value of 0.218698, and an RMSLE value of 0.314963. As for the R-Square value, we are looking for the largest value, which again has the Extreme Gradient Boost model. This means that the features of the Extreme Gradient Boost model can represent 81% of its value against the target. The result is the base model that will be used is Extreme Gradient Boost.\n",
    "<br>\n",
    "<br>\n",
    "Next, let's discuss the concept of the Extreme Gradient Boost model. Broadly speaking, this model is included in the ensemble method of a similar type, namely \"boosting\". The concept of boosting here is when modeling is entered into the data and then the data is incorrectly predicted, then any incorrect data will be given excess weight so that the data can be predicted correctly. Roughly speaking, weighting is like adding the same data type for each incorrectly predicted data with an initial value of 1/data. When the data has been given additional weight, the iteration of the model will be repeated based on the number of n_estimators. The weighting of the boosting is determined by the value of learning_rate.\n",
    "<br>\n",
    "<br>\n",
    "Next, let's discuss the concept of the Extreme Gradient Boost model. Broadly speaking, this model is included in the ensemble method of a similar type, namely \"boosting\". The concept of boosting here is when modeling is entered into the data and then the data is incorrectly predicted, then any incorrect data will be given excess weight so that the data can be predicted correctly. Roughly speaking, weighting is like adding the same data type for each incorrectly predicted data with an initial value of 1/data. When the data has been given additional weight, the iteration of the model will be repeated based on the number of n_estimators. The weighting of the boosting is determined by the value of learning_rate."
   ]
  },
  {
   "cell_type": "markdown",
   "metadata": {},
   "source": [
    "Weighting concept : <br><br>\n",
    "![gambar bobot](https://media.geeksforgeeks.org/wp-content/uploads/20210707140911/Boosting.png)"
   ]
  },
  {
   "cell_type": "markdown",
   "metadata": {},
   "source": [
    "Next will be testing the model to test data from datasets using the selected base model (Extreme Gradient Boost)."
   ]
  },
  {
   "cell_type": "code",
   "execution_count": 31,
   "metadata": {},
   "outputs": [
    {
     "data": {
      "text/html": [
       "<div>\n",
       "<style scoped>\n",
       "    .dataframe tbody tr th:only-of-type {\n",
       "        vertical-align: middle;\n",
       "    }\n",
       "\n",
       "    .dataframe tbody tr th {\n",
       "        vertical-align: top;\n",
       "    }\n",
       "\n",
       "    .dataframe thead th {\n",
       "        text-align: right;\n",
       "    }\n",
       "</style>\n",
       "<table border=\"1\" class=\"dataframe\">\n",
       "  <thead>\n",
       "    <tr style=\"text-align: right;\">\n",
       "      <th></th>\n",
       "      <th>Score MAE</th>\n",
       "      <th>Score MAPE</th>\n",
       "      <th>Score RMSLE</th>\n",
       "      <th>Score R2</th>\n",
       "    </tr>\n",
       "  </thead>\n",
       "  <tbody>\n",
       "    <tr>\n",
       "      <th>Extreme Gradient Boost Test</th>\n",
       "      <td>14816.721184</td>\n",
       "      <td>0.249703</td>\n",
       "      <td>0.318825</td>\n",
       "      <td>0.80262</td>\n",
       "    </tr>\n",
       "  </tbody>\n",
       "</table>\n",
       "</div>"
      ],
      "text/plain": [
       "                                Score MAE  Score MAPE  Score RMSLE  Score R2\n",
       "Extreme Gradient Boost Test  14816.721184    0.249703     0.318825   0.80262"
      ]
     },
     "execution_count": 31,
     "metadata": {},
     "output_type": "execute_result"
    }
   ],
   "source": [
    "ttr_xgb = TransformedTargetRegressor(xgb, func=np.log, inverse_func=np.exp)\n",
    "\n",
    "models = {\n",
    "    'Extreme Gradient Boost Test': ttr_xgb,\n",
    "}\n",
    "\n",
    "score_mae_test = []\n",
    "score_mape_test = []\n",
    "score_rmsle_test = []\n",
    "score_r2_test = []\n",
    "\n",
    "for i in models:\n",
    "\n",
    "    model = Pipeline([\n",
    "        ('preprocessing', ct),\n",
    "        ('model', models[i])\n",
    "        ])\n",
    "\n",
    "    model.fit(X_train, y_train)\n",
    "    y_pred = model.predict(X_test)\n",
    "    score_mae_test.append(mean_absolute_error(y_test, y_pred))\n",
    "    score_mape_test.append(mean_absolute_percentage_error(y_test, y_pred))\n",
    "    score_rmsle_test.append(mean_squared_log_error(y_test, y_pred, squared = False))\n",
    "    score_r2_test.append(r2_score(y_test, y_pred))\n",
    "\n",
    "score_before_tuning = pd.DataFrame({'Score MAE': score_mae_test, \n",
    "                                    'Score MAPE': score_mape_test, \n",
    "                                    'Score RMSLE': score_rmsle_test,  \n",
    "                                    'Score R2': score_r2_test}, \n",
    "                                    index=models.keys())\n",
    "score_before_tuning"
   ]
  },
  {
   "cell_type": "markdown",
   "metadata": {},
   "source": [
    "Comparison of Train and Test Values"
   ]
  },
  {
   "cell_type": "code",
   "execution_count": 32,
   "metadata": {},
   "outputs": [
    {
     "data": {
      "text/html": [
       "<div>\n",
       "<style scoped>\n",
       "    .dataframe tbody tr th:only-of-type {\n",
       "        vertical-align: middle;\n",
       "    }\n",
       "\n",
       "    .dataframe tbody tr th {\n",
       "        vertical-align: top;\n",
       "    }\n",
       "\n",
       "    .dataframe thead th {\n",
       "        text-align: right;\n",
       "    }\n",
       "</style>\n",
       "<table border=\"1\" class=\"dataframe\">\n",
       "  <thead>\n",
       "    <tr style=\"text-align: right;\">\n",
       "      <th></th>\n",
       "      <th>Score MAE</th>\n",
       "      <th>Score MAPE</th>\n",
       "      <th>Score RMSLE</th>\n",
       "      <th>Score R2</th>\n",
       "    </tr>\n",
       "    <tr>\n",
       "      <th>Model</th>\n",
       "      <th></th>\n",
       "      <th></th>\n",
       "      <th></th>\n",
       "      <th></th>\n",
       "    </tr>\n",
       "  </thead>\n",
       "  <tbody>\n",
       "    <tr>\n",
       "      <th>Extreme Gradient Boost Train</th>\n",
       "      <td>-15887.472257</td>\n",
       "      <td>-0.218698</td>\n",
       "      <td>0.314963</td>\n",
       "      <td>0.811174</td>\n",
       "    </tr>\n",
       "    <tr>\n",
       "      <th>Extreme Gradient Boost Test</th>\n",
       "      <td>14816.721184</td>\n",
       "      <td>0.249703</td>\n",
       "      <td>0.318825</td>\n",
       "      <td>0.802620</td>\n",
       "    </tr>\n",
       "  </tbody>\n",
       "</table>\n",
       "</div>"
      ],
      "text/plain": [
       "                                 Score MAE  Score MAPE  Score RMSLE  Score R2\n",
       "Model                                                                        \n",
       "Extreme Gradient Boost Train -15887.472257   -0.218698     0.314963  0.811174\n",
       "Extreme Gradient Boost Test   14816.721184    0.249703     0.318825  0.802620"
      ]
     },
     "execution_count": 32,
     "metadata": {},
     "output_type": "execute_result"
    }
   ],
   "source": [
    "hasil_train = train_score[5:6].set_index('Model', drop = True)\n",
    "merged = pd.concat([hasil_train, score_before_tuning])\n",
    "merged.reset_index(inplace=True)\n",
    "merged.drop(columns = 'index', inplace = True)\n",
    "merged[\"Model\"] = ['Extreme Gradient Boost Train', 'Extreme Gradient Boost Test']\n",
    "merged.set_index('Model', drop = True)"
   ]
  },
  {
   "cell_type": "markdown",
   "metadata": {},
   "source": [
    "From the results obtained, the metric evaluation of the two train and test results has a very small difference, which means there is almost no difference between the train data and the test data which is called not overfitting. Furthermore, hyperparameter tuning will be carried out with the aim of getting a metric evaluation value that is smaller than the metric evaluation value of the test data."
   ]
  },
  {
   "cell_type": "markdown",
   "metadata": {},
   "source": [
    "##### **4.3.2 Hyperparameter Tuning**\n",
    "\n",
    "Stage 2.\n",
    "\n",
    "At this stage, we will perform hyperparameter tuning to get the best parameters for the selected model (Extreme Gradient Boost). Extreme Gradient Boost has a lot of parameters. If we change all the default parameters of the model, there will be concerns that the model will be overfitting. So that the default parameters that are changed from the model are only 3, namely \"max_depth\" as the depth of the tree, learning_rate as a modifier of the weight value, and \"n_estimators\" as the desired number of iterations."
   ]
  },
  {
   "cell_type": "code",
   "execution_count": 33,
   "metadata": {},
   "outputs": [],
   "source": [
    "max_depth = list(np.arange(7, 11, 1))\n",
    "learning_rate = [0.01, 0.05, 0.1, 0.5, 0.9]\n",
    "n_estimators = list(np.arange(75, 301, 25))\n",
    "\n",
    "hyperparam_space_xgb = {\n",
    "    'model__max_depth': max_depth, \n",
    "    'model__learning_rate': learning_rate,\n",
    "    'model__n_estimators': n_estimators,\n",
    "}"
   ]
  },
  {
   "cell_type": "code",
   "execution_count": 34,
   "metadata": {},
   "outputs": [],
   "source": [
    "xgb = XGBRegressor(random_state = 100, verbosity = 0)\n",
    "\n",
    "estimator_xgb = Pipeline([\n",
    "        ('preprocessing', ct),\n",
    "        ('model', xgb)\n",
    "        ])\n",
    "\n",
    "crossval = KFold(n_splits=5, shuffle=True, random_state=1)\n",
    "\n",
    "gs = GridSearchCV(\n",
    "    estimator_xgb, \n",
    "    param_grid = hyperparam_space_xgb,\n",
    "    cv = crossval, \n",
    "    scoring = ['neg_mean_absolute_error', 'neg_mean_absolute_percentage_error'], \n",
    "    n_jobs = -1,\n",
    "    refit = 'neg_mean_absolute_error'\n",
    ")"
   ]
  },
  {
   "cell_type": "code",
   "execution_count": 35,
   "metadata": {},
   "outputs": [
    {
     "data": {
      "text/html": [
       "<style>#sk-container-id-1 {color: black;background-color: white;}#sk-container-id-1 pre{padding: 0;}#sk-container-id-1 div.sk-toggleable {background-color: white;}#sk-container-id-1 label.sk-toggleable__label {cursor: pointer;display: block;width: 100%;margin-bottom: 0;padding: 0.3em;box-sizing: border-box;text-align: center;}#sk-container-id-1 label.sk-toggleable__label-arrow:before {content: \"▸\";float: left;margin-right: 0.25em;color: #696969;}#sk-container-id-1 label.sk-toggleable__label-arrow:hover:before {color: black;}#sk-container-id-1 div.sk-estimator:hover label.sk-toggleable__label-arrow:before {color: black;}#sk-container-id-1 div.sk-toggleable__content {max-height: 0;max-width: 0;overflow: hidden;text-align: left;background-color: #f0f8ff;}#sk-container-id-1 div.sk-toggleable__content pre {margin: 0.2em;color: black;border-radius: 0.25em;background-color: #f0f8ff;}#sk-container-id-1 input.sk-toggleable__control:checked~div.sk-toggleable__content {max-height: 200px;max-width: 100%;overflow: auto;}#sk-container-id-1 input.sk-toggleable__control:checked~label.sk-toggleable__label-arrow:before {content: \"▾\";}#sk-container-id-1 div.sk-estimator input.sk-toggleable__control:checked~label.sk-toggleable__label {background-color: #d4ebff;}#sk-container-id-1 div.sk-label input.sk-toggleable__control:checked~label.sk-toggleable__label {background-color: #d4ebff;}#sk-container-id-1 input.sk-hidden--visually {border: 0;clip: rect(1px 1px 1px 1px);clip: rect(1px, 1px, 1px, 1px);height: 1px;margin: -1px;overflow: hidden;padding: 0;position: absolute;width: 1px;}#sk-container-id-1 div.sk-estimator {font-family: monospace;background-color: #f0f8ff;border: 1px dotted black;border-radius: 0.25em;box-sizing: border-box;margin-bottom: 0.5em;}#sk-container-id-1 div.sk-estimator:hover {background-color: #d4ebff;}#sk-container-id-1 div.sk-parallel-item::after {content: \"\";width: 100%;border-bottom: 1px solid gray;flex-grow: 1;}#sk-container-id-1 div.sk-label:hover label.sk-toggleable__label {background-color: #d4ebff;}#sk-container-id-1 div.sk-serial::before {content: \"\";position: absolute;border-left: 1px solid gray;box-sizing: border-box;top: 0;bottom: 0;left: 50%;z-index: 0;}#sk-container-id-1 div.sk-serial {display: flex;flex-direction: column;align-items: center;background-color: white;padding-right: 0.2em;padding-left: 0.2em;position: relative;}#sk-container-id-1 div.sk-item {position: relative;z-index: 1;}#sk-container-id-1 div.sk-parallel {display: flex;align-items: stretch;justify-content: center;background-color: white;position: relative;}#sk-container-id-1 div.sk-item::before, #sk-container-id-1 div.sk-parallel-item::before {content: \"\";position: absolute;border-left: 1px solid gray;box-sizing: border-box;top: 0;bottom: 0;left: 50%;z-index: -1;}#sk-container-id-1 div.sk-parallel-item {display: flex;flex-direction: column;z-index: 1;position: relative;background-color: white;}#sk-container-id-1 div.sk-parallel-item:first-child::after {align-self: flex-end;width: 50%;}#sk-container-id-1 div.sk-parallel-item:last-child::after {align-self: flex-start;width: 50%;}#sk-container-id-1 div.sk-parallel-item:only-child::after {width: 0;}#sk-container-id-1 div.sk-dashed-wrapped {border: 1px dashed gray;margin: 0 0.4em 0.5em 0.4em;box-sizing: border-box;padding-bottom: 0.4em;background-color: white;}#sk-container-id-1 div.sk-label label {font-family: monospace;font-weight: bold;display: inline-block;line-height: 1.2em;}#sk-container-id-1 div.sk-label-container {text-align: center;}#sk-container-id-1 div.sk-container {/* jupyter's `normalize.less` sets `[hidden] { display: none; }` but bootstrap.min.css set `[hidden] { display: none !important; }` so we also need the `!important` here to be able to override the default hidden behavior on the sphinx rendered scikit-learn.org. See: https://github.com/scikit-learn/scikit-learn/issues/21755 */display: inline-block !important;position: relative;}#sk-container-id-1 div.sk-text-repr-fallback {display: none;}</style><div id=\"sk-container-id-1\" class=\"sk-top-container\"><div class=\"sk-text-repr-fallback\"><pre>GridSearchCV(cv=KFold(n_splits=5, random_state=1, shuffle=True),\n",
       "             estimator=Pipeline(steps=[(&#x27;preprocessing&#x27;,\n",
       "                                        ColumnTransformer(remainder=&#x27;passthrough&#x27;,\n",
       "                                                          transformers=[(&#x27;One &#x27;\n",
       "                                                                         &#x27;Hot &#x27;\n",
       "                                                                         &#x27;Encoder&#x27;,\n",
       "                                                                         OneHotEncoder(drop=&#x27;first&#x27;),\n",
       "                                                                         [&#x27;Gear_Type&#x27;,\n",
       "                                                                          &#x27;Options&#x27;]),\n",
       "                                                                        (&#x27;Binary &#x27;\n",
       "                                                                         &#x27;Encoder&#x27;,\n",
       "                                                                         BinaryEncoder(),\n",
       "                                                                         [&#x27;Type&#x27;,\n",
       "                                                                          &#x27;Region&#x27;,\n",
       "                                                                          &#x27;Make&#x27;])])),\n",
       "                                       (&#x27;model&#x27;,\n",
       "                                        XGBRegressor(base_score=None,\n",
       "                                                     booster=None,...\n",
       "                                                     num_parallel_tree=None,\n",
       "                                                     predictor=None,\n",
       "                                                     random_state=100,\n",
       "                                                     reg_alpha=None,\n",
       "                                                     reg_lambda=None, ...))]),\n",
       "             n_jobs=-1,\n",
       "             param_grid={&#x27;model__learning_rate&#x27;: [0.01, 0.05, 0.1, 0.5, 0.9],\n",
       "                         &#x27;model__max_depth&#x27;: [7, 8, 9, 10],\n",
       "                         &#x27;model__n_estimators&#x27;: [75, 100, 125, 150, 175, 200,\n",
       "                                                 225, 250, 275, 300]},\n",
       "             refit=&#x27;neg_mean_absolute_error&#x27;,\n",
       "             scoring=[&#x27;neg_mean_absolute_error&#x27;,\n",
       "                      &#x27;neg_mean_absolute_percentage_error&#x27;])</pre><b>In a Jupyter environment, please rerun this cell to show the HTML representation or trust the notebook. <br />On GitHub, the HTML representation is unable to render, please try loading this page with nbviewer.org.</b></div><div class=\"sk-container\" hidden><div class=\"sk-item sk-dashed-wrapped\"><div class=\"sk-label-container\"><div class=\"sk-label sk-toggleable\"><input class=\"sk-toggleable__control sk-hidden--visually\" id=\"sk-estimator-id-1\" type=\"checkbox\" ><label for=\"sk-estimator-id-1\" class=\"sk-toggleable__label sk-toggleable__label-arrow\">GridSearchCV</label><div class=\"sk-toggleable__content\"><pre>GridSearchCV(cv=KFold(n_splits=5, random_state=1, shuffle=True),\n",
       "             estimator=Pipeline(steps=[(&#x27;preprocessing&#x27;,\n",
       "                                        ColumnTransformer(remainder=&#x27;passthrough&#x27;,\n",
       "                                                          transformers=[(&#x27;One &#x27;\n",
       "                                                                         &#x27;Hot &#x27;\n",
       "                                                                         &#x27;Encoder&#x27;,\n",
       "                                                                         OneHotEncoder(drop=&#x27;first&#x27;),\n",
       "                                                                         [&#x27;Gear_Type&#x27;,\n",
       "                                                                          &#x27;Options&#x27;]),\n",
       "                                                                        (&#x27;Binary &#x27;\n",
       "                                                                         &#x27;Encoder&#x27;,\n",
       "                                                                         BinaryEncoder(),\n",
       "                                                                         [&#x27;Type&#x27;,\n",
       "                                                                          &#x27;Region&#x27;,\n",
       "                                                                          &#x27;Make&#x27;])])),\n",
       "                                       (&#x27;model&#x27;,\n",
       "                                        XGBRegressor(base_score=None,\n",
       "                                                     booster=None,...\n",
       "                                                     num_parallel_tree=None,\n",
       "                                                     predictor=None,\n",
       "                                                     random_state=100,\n",
       "                                                     reg_alpha=None,\n",
       "                                                     reg_lambda=None, ...))]),\n",
       "             n_jobs=-1,\n",
       "             param_grid={&#x27;model__learning_rate&#x27;: [0.01, 0.05, 0.1, 0.5, 0.9],\n",
       "                         &#x27;model__max_depth&#x27;: [7, 8, 9, 10],\n",
       "                         &#x27;model__n_estimators&#x27;: [75, 100, 125, 150, 175, 200,\n",
       "                                                 225, 250, 275, 300]},\n",
       "             refit=&#x27;neg_mean_absolute_error&#x27;,\n",
       "             scoring=[&#x27;neg_mean_absolute_error&#x27;,\n",
       "                      &#x27;neg_mean_absolute_percentage_error&#x27;])</pre></div></div></div><div class=\"sk-parallel\"><div class=\"sk-parallel-item\"><div class=\"sk-item\"><div class=\"sk-label-container\"><div class=\"sk-label sk-toggleable\"><input class=\"sk-toggleable__control sk-hidden--visually\" id=\"sk-estimator-id-2\" type=\"checkbox\" ><label for=\"sk-estimator-id-2\" class=\"sk-toggleable__label sk-toggleable__label-arrow\">estimator: Pipeline</label><div class=\"sk-toggleable__content\"><pre>Pipeline(steps=[(&#x27;preprocessing&#x27;,\n",
       "                 ColumnTransformer(remainder=&#x27;passthrough&#x27;,\n",
       "                                   transformers=[(&#x27;One Hot Encoder&#x27;,\n",
       "                                                  OneHotEncoder(drop=&#x27;first&#x27;),\n",
       "                                                  [&#x27;Gear_Type&#x27;, &#x27;Options&#x27;]),\n",
       "                                                 (&#x27;Binary Encoder&#x27;,\n",
       "                                                  BinaryEncoder(),\n",
       "                                                  [&#x27;Type&#x27;, &#x27;Region&#x27;,\n",
       "                                                   &#x27;Make&#x27;])])),\n",
       "                (&#x27;model&#x27;,\n",
       "                 XGBRegressor(base_score=None, booster=None, callbacks=None,\n",
       "                              colsample_bylevel=None, colsample_bynode=None,\n",
       "                              colsample_bytree=N...\n",
       "                              gamma=None, gpu_id=None, grow_policy=None,\n",
       "                              importance_type=None,\n",
       "                              interaction_constraints=None, learning_rate=None,\n",
       "                              max_bin=None, max_cat_to_onehot=None,\n",
       "                              max_delta_step=None, max_depth=None,\n",
       "                              max_leaves=None, min_child_weight=None,\n",
       "                              missing=nan, monotone_constraints=None,\n",
       "                              n_estimators=100, n_jobs=None,\n",
       "                              num_parallel_tree=None, predictor=None,\n",
       "                              random_state=100, reg_alpha=None, reg_lambda=None, ...))])</pre></div></div></div><div class=\"sk-serial\"><div class=\"sk-item\"><div class=\"sk-serial\"><div class=\"sk-item sk-dashed-wrapped\"><div class=\"sk-label-container\"><div class=\"sk-label sk-toggleable\"><input class=\"sk-toggleable__control sk-hidden--visually\" id=\"sk-estimator-id-3\" type=\"checkbox\" ><label for=\"sk-estimator-id-3\" class=\"sk-toggleable__label sk-toggleable__label-arrow\">preprocessing: ColumnTransformer</label><div class=\"sk-toggleable__content\"><pre>ColumnTransformer(remainder=&#x27;passthrough&#x27;,\n",
       "                  transformers=[(&#x27;One Hot Encoder&#x27;, OneHotEncoder(drop=&#x27;first&#x27;),\n",
       "                                 [&#x27;Gear_Type&#x27;, &#x27;Options&#x27;]),\n",
       "                                (&#x27;Binary Encoder&#x27;, BinaryEncoder(),\n",
       "                                 [&#x27;Type&#x27;, &#x27;Region&#x27;, &#x27;Make&#x27;])])</pre></div></div></div><div class=\"sk-parallel\"><div class=\"sk-parallel-item\"><div class=\"sk-item\"><div class=\"sk-label-container\"><div class=\"sk-label sk-toggleable\"><input class=\"sk-toggleable__control sk-hidden--visually\" id=\"sk-estimator-id-4\" type=\"checkbox\" ><label for=\"sk-estimator-id-4\" class=\"sk-toggleable__label sk-toggleable__label-arrow\">One Hot Encoder</label><div class=\"sk-toggleable__content\"><pre>[&#x27;Gear_Type&#x27;, &#x27;Options&#x27;]</pre></div></div></div><div class=\"sk-serial\"><div class=\"sk-item\"><div class=\"sk-estimator sk-toggleable\"><input class=\"sk-toggleable__control sk-hidden--visually\" id=\"sk-estimator-id-5\" type=\"checkbox\" ><label for=\"sk-estimator-id-5\" class=\"sk-toggleable__label sk-toggleable__label-arrow\">OneHotEncoder</label><div class=\"sk-toggleable__content\"><pre>OneHotEncoder(drop=&#x27;first&#x27;)</pre></div></div></div></div></div></div><div class=\"sk-parallel-item\"><div class=\"sk-item\"><div class=\"sk-label-container\"><div class=\"sk-label sk-toggleable\"><input class=\"sk-toggleable__control sk-hidden--visually\" id=\"sk-estimator-id-6\" type=\"checkbox\" ><label for=\"sk-estimator-id-6\" class=\"sk-toggleable__label sk-toggleable__label-arrow\">Binary Encoder</label><div class=\"sk-toggleable__content\"><pre>[&#x27;Type&#x27;, &#x27;Region&#x27;, &#x27;Make&#x27;]</pre></div></div></div><div class=\"sk-serial\"><div class=\"sk-item\"><div class=\"sk-estimator sk-toggleable\"><input class=\"sk-toggleable__control sk-hidden--visually\" id=\"sk-estimator-id-7\" type=\"checkbox\" ><label for=\"sk-estimator-id-7\" class=\"sk-toggleable__label sk-toggleable__label-arrow\">BinaryEncoder</label><div class=\"sk-toggleable__content\"><pre>BinaryEncoder()</pre></div></div></div></div></div></div><div class=\"sk-parallel-item\"><div class=\"sk-item\"><div class=\"sk-label-container\"><div class=\"sk-label sk-toggleable\"><input class=\"sk-toggleable__control sk-hidden--visually\" id=\"sk-estimator-id-8\" type=\"checkbox\" ><label for=\"sk-estimator-id-8\" class=\"sk-toggleable__label sk-toggleable__label-arrow\">remainder</label><div class=\"sk-toggleable__content\"><pre>[&#x27;Year&#x27;, &#x27;Engine_Size&#x27;, &#x27;Mileage&#x27;]</pre></div></div></div><div class=\"sk-serial\"><div class=\"sk-item\"><div class=\"sk-estimator sk-toggleable\"><input class=\"sk-toggleable__control sk-hidden--visually\" id=\"sk-estimator-id-9\" type=\"checkbox\" ><label for=\"sk-estimator-id-9\" class=\"sk-toggleable__label sk-toggleable__label-arrow\">passthrough</label><div class=\"sk-toggleable__content\"><pre>passthrough</pre></div></div></div></div></div></div></div></div><div class=\"sk-item\"><div class=\"sk-estimator sk-toggleable\"><input class=\"sk-toggleable__control sk-hidden--visually\" id=\"sk-estimator-id-10\" type=\"checkbox\" ><label for=\"sk-estimator-id-10\" class=\"sk-toggleable__label sk-toggleable__label-arrow\">XGBRegressor</label><div class=\"sk-toggleable__content\"><pre>XGBRegressor(base_score=None, booster=None, callbacks=None,\n",
       "             colsample_bylevel=None, colsample_bynode=None,\n",
       "             colsample_bytree=None, early_stopping_rounds=None,\n",
       "             enable_categorical=False, eval_metric=None, gamma=None,\n",
       "             gpu_id=None, grow_policy=None, importance_type=None,\n",
       "             interaction_constraints=None, learning_rate=None, max_bin=None,\n",
       "             max_cat_to_onehot=None, max_delta_step=None, max_depth=None,\n",
       "             max_leaves=None, min_child_weight=None, missing=nan,\n",
       "             monotone_constraints=None, n_estimators=100, n_jobs=None,\n",
       "             num_parallel_tree=None, predictor=None, random_state=100,\n",
       "             reg_alpha=None, reg_lambda=None, ...)</pre></div></div></div></div></div></div></div></div></div></div></div></div>"
      ],
      "text/plain": [
       "GridSearchCV(cv=KFold(n_splits=5, random_state=1, shuffle=True),\n",
       "             estimator=Pipeline(steps=[('preprocessing',\n",
       "                                        ColumnTransformer(remainder='passthrough',\n",
       "                                                          transformers=[('One '\n",
       "                                                                         'Hot '\n",
       "                                                                         'Encoder',\n",
       "                                                                         OneHotEncoder(drop='first'),\n",
       "                                                                         ['Gear_Type',\n",
       "                                                                          'Options']),\n",
       "                                                                        ('Binary '\n",
       "                                                                         'Encoder',\n",
       "                                                                         BinaryEncoder(),\n",
       "                                                                         ['Type',\n",
       "                                                                          'Region',\n",
       "                                                                          'Make'])])),\n",
       "                                       ('model',\n",
       "                                        XGBRegressor(base_score=None,\n",
       "                                                     booster=None,...\n",
       "                                                     num_parallel_tree=None,\n",
       "                                                     predictor=None,\n",
       "                                                     random_state=100,\n",
       "                                                     reg_alpha=None,\n",
       "                                                     reg_lambda=None, ...))]),\n",
       "             n_jobs=-1,\n",
       "             param_grid={'model__learning_rate': [0.01, 0.05, 0.1, 0.5, 0.9],\n",
       "                         'model__max_depth': [7, 8, 9, 10],\n",
       "                         'model__n_estimators': [75, 100, 125, 150, 175, 200,\n",
       "                                                 225, 250, 275, 300]},\n",
       "             refit='neg_mean_absolute_error',\n",
       "             scoring=['neg_mean_absolute_error',\n",
       "                      'neg_mean_absolute_percentage_error'])"
      ]
     },
     "execution_count": 35,
     "metadata": {},
     "output_type": "execute_result"
    }
   ],
   "source": [
    "gs.fit(X_train, y_train)"
   ]
  },
  {
   "cell_type": "code",
   "execution_count": 36,
   "metadata": {},
   "outputs": [
    {
     "name": "stdout",
     "output_type": "stream",
     "text": [
      "Extreme Gradient Boost\n",
      "Best_score: -17100.08899432785\n",
      "Best_params: {'model__learning_rate': 0.05, 'model__max_depth': 9, 'model__n_estimators': 250}\n"
     ]
    }
   ],
   "source": [
    "print('Extreme Gradient Boost')\n",
    "print('Best_score:', gs.best_score_)\n",
    "print('Best_params:', gs.best_params_)"
   ]
  },
  {
   "cell_type": "markdown",
   "metadata": {},
   "source": [
    "From the results of hyperparameter tuning, the following changes are obtained:\n",
    "1. learning_rate : 0.05\n",
    "2. max_depth : 9\n",
    "3. n_estimators : 250\n",
    "\n",
    "Then we will enter the parameter changes into the model and try again on the test data."
   ]
  },
  {
   "cell_type": "markdown",
   "metadata": {},
   "source": [
    "##### **4.3.3 Test Model after Hyperparameter Tuning**\n",
    "\n",
    "Stage 3."
   ]
  },
  {
   "cell_type": "code",
   "execution_count": 45,
   "metadata": {},
   "outputs": [
    {
     "name": "stdout",
     "output_type": "stream",
     "text": [
      "Tuning result value:\n"
     ]
    },
    {
     "data": {
      "text/html": [
       "<div>\n",
       "<style scoped>\n",
       "    .dataframe tbody tr th:only-of-type {\n",
       "        vertical-align: middle;\n",
       "    }\n",
       "\n",
       "    .dataframe tbody tr th {\n",
       "        vertical-align: top;\n",
       "    }\n",
       "\n",
       "    .dataframe thead th {\n",
       "        text-align: right;\n",
       "    }\n",
       "</style>\n",
       "<table border=\"1\" class=\"dataframe\">\n",
       "  <thead>\n",
       "    <tr style=\"text-align: right;\">\n",
       "      <th></th>\n",
       "      <th>Score MAE</th>\n",
       "      <th>Score MAPE</th>\n",
       "      <th>Score RMSLE</th>\n",
       "    </tr>\n",
       "  </thead>\n",
       "  <tbody>\n",
       "    <tr>\n",
       "      <th>Extreme Gradient Boost Tuning</th>\n",
       "      <td>14329.075924</td>\n",
       "      <td>0.233788</td>\n",
       "      <td>0.091218</td>\n",
       "    </tr>\n",
       "  </tbody>\n",
       "</table>\n",
       "</div>"
      ],
      "text/plain": [
       "                                  Score MAE  Score MAPE  Score RMSLE\n",
       "Extreme Gradient Boost Tuning  14329.075924    0.233788     0.091218"
      ]
     },
     "execution_count": 45,
     "metadata": {},
     "output_type": "execute_result"
    }
   ],
   "source": [
    "xgb_tuning = TransformedTargetRegressor(gs.best_estimator_, func=np.log, inverse_func = np.exp)\n",
    "\n",
    "xgb_tuning.fit(X_train, y_train)\n",
    "\n",
    "y_pred_xgb_tuning = xgb_tuning.predict(X_test)\n",
    "\n",
    "mae_xgb_tuning = mean_absolute_error(y_test, y_pred_xgb_tuning)\n",
    "mape_xgb_tuning = mean_absolute_percentage_error(y_test, y_pred_xgb_tuning)\n",
    "rmsle_xgb_tuning = mean_squared_log_error(y_test, y_pred_xgb_tuning)\n",
    "\n",
    "\n",
    "score_after_tuning = pd.DataFrame({'Score MAE': mae_xgb_tuning,\n",
    "                                   'Score MAPE': mape_xgb_tuning,\n",
    "                                   'Score RMSLE': rmsle_xgb_tuning},\n",
    "                                   index = [\"Extreme Gradient Boost Tuning\"])\n",
    "print(\"Tuning result value:\")\n",
    "score_after_tuning"
   ]
  },
  {
   "cell_type": "markdown",
   "metadata": {},
   "source": [
    "The following is a comparison of the test model values from those before tuning and after tuning."
   ]
  },
  {
   "cell_type": "code",
   "execution_count": 38,
   "metadata": {},
   "outputs": [
    {
     "data": {
      "text/html": [
       "<div>\n",
       "<style scoped>\n",
       "    .dataframe tbody tr th:only-of-type {\n",
       "        vertical-align: middle;\n",
       "    }\n",
       "\n",
       "    .dataframe tbody tr th {\n",
       "        vertical-align: top;\n",
       "    }\n",
       "\n",
       "    .dataframe thead th {\n",
       "        text-align: right;\n",
       "    }\n",
       "</style>\n",
       "<table border=\"1\" class=\"dataframe\">\n",
       "  <thead>\n",
       "    <tr style=\"text-align: right;\">\n",
       "      <th></th>\n",
       "      <th>Score MAE</th>\n",
       "      <th>Score MAPE</th>\n",
       "      <th>Score RMSLE</th>\n",
       "    </tr>\n",
       "  </thead>\n",
       "  <tbody>\n",
       "    <tr>\n",
       "      <th>Extreme Gradient Boost Test</th>\n",
       "      <td>14816.721184</td>\n",
       "      <td>0.249703</td>\n",
       "      <td>0.318825</td>\n",
       "    </tr>\n",
       "    <tr>\n",
       "      <th>Extreme Gradient Boost Tuning</th>\n",
       "      <td>14329.075924</td>\n",
       "      <td>0.233788</td>\n",
       "      <td>0.091218</td>\n",
       "    </tr>\n",
       "  </tbody>\n",
       "</table>\n",
       "</div>"
      ],
      "text/plain": [
       "                                  Score MAE  Score MAPE  Score RMSLE\n",
       "Extreme Gradient Boost Test    14816.721184    0.249703     0.318825\n",
       "Extreme Gradient Boost Tuning  14329.075924    0.233788     0.091218"
      ]
     },
     "execution_count": 38,
     "metadata": {},
     "output_type": "execute_result"
    }
   ],
   "source": [
    "pd.concat([score_before_tuning, score_after_tuning]).drop(columns = 'Score R2')"
   ]
  },
  {
   "cell_type": "markdown",
   "metadata": {},
   "source": [
    "Seen from the table above, the tuning results show that the model can predict better based on the metric evaluation value (lower value).\n",
    "<br>\n",
    "<br>\n",
    "Now let's look at the comparison plot of the original test data with the predicted test data."
   ]
  },
  {
   "cell_type": "code",
   "execution_count": 39,
   "metadata": {},
   "outputs": [
    {
     "data": {
      "image/png": "[encoded data removed]",
      "text/plain": [
       "<Figure size 1008x720 with 1 Axes>"
      ]
     },
     "metadata": {
      "needs_background": "light"
     },
     "output_type": "display_data"
    }
   ],
   "source": [
    "plt.figure(figsize=(14, 10))\n",
    "plot = sns.regplot(x = y_test,\n",
    "                   y = y_pred_xgb_tuning,\n",
    "                   scatter_kws={\"color\": \"purple\", 'alpha': 0.3},\n",
    "                   line_kws={'color': '#CCCC00', 'alpha': 1}).set(title='Actual vs Prediction Price', \n",
    "                                                                  xlabel='Actual Price', \n",
    "                                                                  ylabel='Predicted Price');"
   ]
  },
  {
   "cell_type": "code",
   "execution_count": 40,
   "metadata": {},
   "outputs": [
    {
     "data": {
      "text/html": [
       "<div>\n",
       "<style scoped>\n",
       "    .dataframe tbody tr th:only-of-type {\n",
       "        vertical-align: middle;\n",
       "    }\n",
       "\n",
       "    .dataframe tbody tr th {\n",
       "        vertical-align: top;\n",
       "    }\n",
       "\n",
       "    .dataframe thead th {\n",
       "        text-align: right;\n",
       "    }\n",
       "</style>\n",
       "<table border=\"1\" class=\"dataframe\">\n",
       "  <thead>\n",
       "    <tr style=\"text-align: right;\">\n",
       "      <th></th>\n",
       "      <th>Range Price (SAR)</th>\n",
       "      <th>Score MAE (SAR)</th>\n",
       "      <th>Score MAPE (%)</th>\n",
       "      <th>Jumlah Data</th>\n",
       "    </tr>\n",
       "  </thead>\n",
       "  <tbody>\n",
       "    <tr>\n",
       "      <th>0</th>\n",
       "      <td>&lt;10k</td>\n",
       "      <td>11478.460424</td>\n",
       "      <td>265.606563</td>\n",
       "      <td>19</td>\n",
       "    </tr>\n",
       "    <tr>\n",
       "      <th>1</th>\n",
       "      <td>10k-20k</td>\n",
       "      <td>7169.117645</td>\n",
       "      <td>45.650182</td>\n",
       "      <td>80</td>\n",
       "    </tr>\n",
       "    <tr>\n",
       "      <th>2</th>\n",
       "      <td>20k-30k</td>\n",
       "      <td>5649.809911</td>\n",
       "      <td>21.400959</td>\n",
       "      <td>126</td>\n",
       "    </tr>\n",
       "    <tr>\n",
       "      <th>3</th>\n",
       "      <td>30k-40k</td>\n",
       "      <td>6256.312186</td>\n",
       "      <td>17.347494</td>\n",
       "      <td>118</td>\n",
       "    </tr>\n",
       "    <tr>\n",
       "      <th>4</th>\n",
       "      <td>40k-50k</td>\n",
       "      <td>7097.439251</td>\n",
       "      <td>15.449993</td>\n",
       "      <td>135</td>\n",
       "    </tr>\n",
       "    <tr>\n",
       "      <th>5</th>\n",
       "      <td>50k-100k</td>\n",
       "      <td>11369.744581</td>\n",
       "      <td>15.940829</td>\n",
       "      <td>401</td>\n",
       "    </tr>\n",
       "    <tr>\n",
       "      <th>6</th>\n",
       "      <td>100k-150k</td>\n",
       "      <td>18693.552093</td>\n",
       "      <td>15.154361</td>\n",
       "      <td>137</td>\n",
       "    </tr>\n",
       "    <tr>\n",
       "      <th>7</th>\n",
       "      <td>150k-200k</td>\n",
       "      <td>32472.867357</td>\n",
       "      <td>19.269563</td>\n",
       "      <td>46</td>\n",
       "    </tr>\n",
       "    <tr>\n",
       "      <th>8</th>\n",
       "      <td>200k-250k</td>\n",
       "      <td>39971.695638</td>\n",
       "      <td>17.847602</td>\n",
       "      <td>24</td>\n",
       "    </tr>\n",
       "    <tr>\n",
       "      <th>9</th>\n",
       "      <td>250k-300k</td>\n",
       "      <td>65921.971507</td>\n",
       "      <td>23.698914</td>\n",
       "      <td>17</td>\n",
       "    </tr>\n",
       "    <tr>\n",
       "      <th>10</th>\n",
       "      <td>300k-350k</td>\n",
       "      <td>89970.450893</td>\n",
       "      <td>26.883180</td>\n",
       "      <td>7</td>\n",
       "    </tr>\n",
       "    <tr>\n",
       "      <th>11</th>\n",
       "      <td>350k-400k</td>\n",
       "      <td>109043.537500</td>\n",
       "      <td>29.487547</td>\n",
       "      <td>5</td>\n",
       "    </tr>\n",
       "    <tr>\n",
       "      <th>12</th>\n",
       "      <td>400k-450k</td>\n",
       "      <td>88772.612500</td>\n",
       "      <td>20.586755</td>\n",
       "      <td>5</td>\n",
       "    </tr>\n",
       "    <tr>\n",
       "      <th>13</th>\n",
       "      <td>&gt;450k (Max 620k)</td>\n",
       "      <td>192917.562500</td>\n",
       "      <td>34.011827</td>\n",
       "      <td>3</td>\n",
       "    </tr>\n",
       "    <tr>\n",
       "      <th>14</th>\n",
       "      <td>All Range (Max 620k)</td>\n",
       "      <td>14329.075924</td>\n",
       "      <td>23.378848</td>\n",
       "      <td>1123</td>\n",
       "    </tr>\n",
       "  </tbody>\n",
       "</table>\n",
       "</div>"
      ],
      "text/plain": [
       "       Range Price (SAR)  Score MAE (SAR)  Score MAPE (%)  Jumlah Data\n",
       "0                   <10k     11478.460424      265.606563           19\n",
       "1                10k-20k      7169.117645       45.650182           80\n",
       "2                20k-30k      5649.809911       21.400959          126\n",
       "3                30k-40k      6256.312186       17.347494          118\n",
       "4                40k-50k      7097.439251       15.449993          135\n",
       "5               50k-100k     11369.744581       15.940829          401\n",
       "6              100k-150k     18693.552093       15.154361          137\n",
       "7              150k-200k     32472.867357       19.269563           46\n",
       "8              200k-250k     39971.695638       17.847602           24\n",
       "9              250k-300k     65921.971507       23.698914           17\n",
       "10             300k-350k     89970.450893       26.883180            7\n",
       "11             350k-400k    109043.537500       29.487547            5\n",
       "12             400k-450k     88772.612500       20.586755            5\n",
       "13      >450k (Max 620k)    192917.562500       34.011827            3\n",
       "14  All Range (Max 620k)     14329.075924       23.378848         1123"
      ]
     },
     "execution_count": 40,
     "metadata": {},
     "output_type": "execute_result"
    }
   ],
   "source": [
    "df_y_pred = pd.DataFrame({'y_test': y_test, 'y_test_pred': y_pred_xgb_tuning})\n",
    "df_y_pred.reset_index(drop = True, inplace = True)\n",
    "df_y_pred.sort_values('y_test').head(20)\n",
    "\n",
    "df_y_pred10k = df_y_pred[df_y_pred['y_test']<=10000]\n",
    "df_y_pred20k = df_y_pred[(df_y_pred['y_test']>10000) & (df_y_pred['y_test']<=20000)]\n",
    "df_y_pred30k = df_y_pred[(df_y_pred['y_test']>20000) & (df_y_pred['y_test']<=30000)]\n",
    "df_y_pred40k = df_y_pred[(df_y_pred['y_test']>30000) & (df_y_pred['y_test']<=40000)]\n",
    "df_y_pred50k = df_y_pred[(df_y_pred['y_test']>40000) & (df_y_pred['y_test']<=50000)]\n",
    "df_y_pred100k = df_y_pred[(df_y_pred['y_test']>50000) & (df_y_pred['y_test']<=100000)]\n",
    "df_y_pred150k = df_y_pred[(df_y_pred['y_test']>100000) & (df_y_pred['y_test']<=150000)]\n",
    "df_y_pred200k = df_y_pred[(df_y_pred['y_test']>150000) & (df_y_pred['y_test']<=200000)]\n",
    "df_y_pred250k = df_y_pred[(df_y_pred['y_test']>200000) & (df_y_pred['y_test']<=250000)]\n",
    "df_y_pred300k = df_y_pred[(df_y_pred['y_test']>250000) & (df_y_pred['y_test']<=300000)]\n",
    "df_y_pred350k = df_y_pred[(df_y_pred['y_test']>300000) & (df_y_pred['y_test']<=350000)]\n",
    "df_y_pred400k = df_y_pred[(df_y_pred['y_test']>350000) & (df_y_pred['y_test']<=400000)]\n",
    "df_y_pred450k = df_y_pred[(df_y_pred['y_test']>400000) & (df_y_pred['y_test']<=450000)]\n",
    "df_y_predmax = df_y_pred[(df_y_pred['y_test']>450000)]\n",
    "\n",
    "list_range = [df_y_pred10k,\n",
    "              df_y_pred20k,\n",
    "              df_y_pred30k,\n",
    "              df_y_pred40k,\n",
    "              df_y_pred50k,\n",
    "              df_y_pred100k,\n",
    "              df_y_pred150k,\n",
    "              df_y_pred200k,\n",
    "              df_y_pred250k,\n",
    "              df_y_pred300k,\n",
    "              df_y_pred350k,\n",
    "              df_y_pred400k,\n",
    "              df_y_pred450k,\n",
    "              df_y_predmax,\n",
    "              df_y_pred]\n",
    "\n",
    "list_range2 = ['<10k', '10k-20k', '20k-30k', '30k-40k', '40k-50k', '50k-100k', '100k-150k', '150k-200k', '200k-250k', '250k-300k', '300k-350k', '350k-400k', '400k-450k', '>450k (Max 620k)', 'All Range (Max 620k)']\n",
    "list_mae = []\n",
    "list_mape = []\n",
    "list_len = []\n",
    "\n",
    "for i in list_range:\n",
    "    scoremae = mean_absolute_error(i['y_test'], i['y_test_pred'])\n",
    "    scoremape = mean_absolute_percentage_error(i['y_test'], i['y_test_pred'])\n",
    "    len_df = len(i)\n",
    "    list_mae.append(scoremae)\n",
    "    list_mape.append(scoremape*100)\n",
    "    list_len.append(len_df)\n",
    "\n",
    "range_metrics = pd.DataFrame({\"Range Price (SAR)\": list_range2,\n",
    "              \"Score MAE (SAR)\": list_mae,\n",
    "              \"Score MAPE (%)\": list_mape,\n",
    "              \"Jumlah Data\": list_len})\n",
    "range_metrics\n",
    "\n",
    "\n"
   ]
  },
  {
   "cell_type": "markdown",
   "metadata": {},
   "source": [
    "From the plot and table above, this model is only able to predict the price of a used car starting from 20 thousand SAR to 350 thousand SAR. This predictive ability is seen from the MAPE metric evaluation values ​​for each range compared to the MAPE metric evaluation values ​​of all test data. This matrix was chosen because MAPE is a predictive scoring matrix whose final difference will be a percentage. It can be seen that the worst prediction range is below 10 thousand SAR because the MAPE value reaches 265%. Followed by a range of 10k - 20k SAR with 45% MAPE. After that range, the model is considered good because it is able to predict with its MAPE value close to the MAPE value of the test data. The final limit of this model is at a maximum value of 350 thousand SAR if it is based on the MAPE value of the test data. If we look at the highest price, which is 620 thousand SAR, the price is very far from predictions. This is because the higher the price of the car, the better the quality of the brand name and the smaller the number. Natural law applies to car ownership that the higher the price of the goods owned, the fewer people who have these expensive goods. The fewer types of car brands that are sold, the model becomes **lack of data** for the small number of brands. This is what makes the high car price predictions can be wrong."
   ]
  },
  {
   "cell_type": "markdown",
   "metadata": {},
   "source": [
    "*Feature Importances*"
   ]
  },
  {
   "cell_type": "code",
   "execution_count": 41,
   "metadata": {},
   "outputs": [
    {
     "data": {
      "text/plain": [
       "<AxesSubplot:xlabel='Nilai', ylabel='Features'>"
      ]
     },
     "execution_count": 41,
     "metadata": {},
     "output_type": "execute_result"
    },
    {
     "data": {
      "image/png": "[encoded data removed]",
      "text/plain": [
       "<Figure size 1440x720 with 1 Axes>"
      ]
     },
     "metadata": {
      "needs_background": "light"
     },
     "output_type": "display_data"
    }
   ],
   "source": [
    "xgb_tuning = gs.best_estimator_\n",
    "\n",
    "feature_imp = pd.DataFrame({\"Features\": ct.get_feature_names(), \"Nilai\":xgb_tuning['model'].feature_importances_}).sort_values(\"Nilai\",ascending = False).head(10)\n",
    "plt.figure(figsize=(20,10))\n",
    "sns.barplot(data=feature_imp, x=\"Nilai\", y=\"Features\", color= 'grey')"
   ]
  },
  {
   "cell_type": "markdown",
   "metadata": {},
   "source": [
    "It can be seen from the plot above that the \"Year\" feature has a high influence on the selling price of used cars."
   ]
  },
  {
   "cell_type": "markdown",
   "metadata": {},
   "source": [
    "###  **5. Conclusion**"
   ]
  },
  {
   "cell_type": "markdown",
   "metadata": {},
   "source": [
    "After obtaining the optimal model for these datasets, it can be concluded that:\n",
    "1. The model results obtained are Extreme Gradient Boost Regression with changes to the default parameters to:\n",
    "    - learning_rate : 0.05\n",
    "    - max_depth : 9\n",
    "    - n_estimators : 250<br>\n",
    "<br>\n",
    "2. From the modeling done, the \"Year\" feature greatly affects the price of a used car.\n",
    "\n",
    "3. From removing extreme outliers from 2 columns, the limitations are obtained as follows:\n",
    "    - The maximum price is 620000 SAR.\n",
    "    - The oldest used car year is 1978.<br>\n",
    "<br>\n",
    "4. The target variable \"Price\" which has a value of 0 is not used in the modeling because it is negotiating. While in *Machine Learning* we need exact numbers.\n",
    "\n",
    "5. Based on the Matrix Evaluation, this model has an error of around 14329 SAR (from MAE) or 23% (from MAPE) the prediction will deviate.\n",
    "\n",
    "6. From the results of the plot and price range table, we know a number of additional model limitations, namely:\n",
    "    - The fewer the number of car brands being sold, the more difficult the model will be to predict the price.\n",
    "    - For a car that if you want to sell under 10k SAR, this model is not suitable for use.\n",
    "    - At least it takes a number of the same car brand so that the price prediction can be accurate, especially for high prices. For example, we take the Ghost brand (the only 1 in this dataset) from Rolls-Royce. If the same brand enters, the price will be predicted to deviate considerably due to the lack of data for the Ghost car brand from Rolls-Royce."
   ]
  },
  {
   "cell_type": "markdown",
   "metadata": {},
   "source": [
    "###  **6. Recommendation**"
   ]
  },
  {
   "cell_type": "markdown",
   "metadata": {},
   "source": [
    "The following are recommendations that can be given to maximize the model:\n",
    "\n",
    "1. Added several features such as \"Need a Workshop First?\", \"Official Car Warranty\", \"Car Condition\" etc. which logically have a very large correlation in determining the price of a used car.\n",
    "\n",
    "2. Given the very small amount of data after becoming clean data (about 3 thousand), it is necessary to add data so that the model can predict accurately.\n",
    "\n",
    "3. The addition of the amount of data needs to be given attention to the car brands which are few in number and the price is expensive. The small amount of data greatly affects the final model results obtained for a small number of car brands.\n",
    "\n",
    "4. In the future, this model needs to be assisted by a classification model whose target variable is sales that are \"profitable or not\" based on the value of the price of cars that have been sold."
   ]
  },
  {
   "cell_type": "markdown",
   "metadata": {},
   "source": [
    "### Save Model"
   ]
  },
  {
   "cell_type": "code",
   "execution_count": 42,
   "metadata": {},
   "outputs": [],
   "source": [
    "import pickle\n",
    "\n",
    "xgb_tuning = TransformedTargetRegressor(gs.best_estimator_, func=np.log, inverse_func = np.exp)\n",
    "xgb_tuning.fit(X_train, y_train)\n",
    "pickle.dump(xgb_tuning, open('Final_Model_Saudi.sav', 'wb'))   "
   ]
  },
  {
   "cell_type": "markdown",
   "metadata": {},
   "source": [
    "### Load Model"
   ]
  },
  {
   "cell_type": "code",
   "execution_count": 43,
   "metadata": {},
   "outputs": [],
   "source": [
    "# filename = 'Final_Model_MuhammadMukhlis_Capstone_Modul_3.sav'\n",
    "# loaded_model = pickle.load(open(filename, 'rb'))\n",
    "\n",
    "# print(\"MAE Score:\", mean_absolute_error(y_test, loaded_model.predict(X_test)))\n",
    "# print(\"MAPE Score:\", mean_absolute_percentage_error(y_test, loaded_model.predict(X_test))*100,\"%\")"
   ]
  }
 ],
 "metadata": {
  "kernelspec": {
   "display_name": "Python 3.10.0 64-bit",
   "language": "python",
   "name": "python3"
  },
  "language_info": {
   "codemirror_mode": {
    "name": "ipython",
    "version": 3
   },
   "file_extension": ".py",
   "mimetype": "text/x-python",
   "name": "python",
   "nbconvert_exporter": "python",
   "pygments_lexer": "ipython3",
   "version": "3.10.0"
  },
  "orig_nbformat": 4,
  "vscode": {
   "interpreter": {
    "hash": "ccc9907020a360c0774b7240d7189d7caac06a5804f44f1a6c385a36278d3a41"
   }
  }
 },
 "nbformat": 4,
 "nbformat_minor": 2
}
